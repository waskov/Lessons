{
 "cells": [
  {
   "cell_type": "raw",
   "metadata": {},
   "source": [
    "# https://smartiqa.ru/courses/python/answer-key"
   ]
  },
  {
   "cell_type": "markdown",
   "metadata": {},
   "source": [
    "# Задача 0.1"
   ]
  },
  {
   "cell_type": "markdown",
   "metadata": {},
   "source": [
    "Найдите моду списка чисел. Модой числового ряда называется число, которое встречается в ряду чаще других. "
   ]
  },
  {
   "cell_type": "code",
   "execution_count": null,
   "metadata": {},
   "outputs": [],
   "source": [
    "a=[1,4,6,7,8,3,4,6,5,8,3,2,7,8,6,1,1,5,8,5,6,7,8,8,8,3]"
   ]
  },
  {
   "cell_type": "markdown",
   "metadata": {},
   "source": [
    "# Задача 1.1\n",
    "#### 1. Создать произвольный список\n",
    "#### 2. Добавить новый элемент типа str в конец списка\n",
    "#### 3. Добавить новый элемент типа int на место с индексом\n",
    "#### 4. Добавить новый элемент типа list в конец списка\n",
    "#### 5. Добавить новый элемент типа tuple на место с индексом\n",
    "#### 6. Получить элемент по индексу\n",
    "#### 7. Удалить элемент\n",
    "#### 8. Найти число повторений элемента списка"
   ]
  },
  {
   "cell_type": "code",
   "execution_count": null,
   "metadata": {},
   "outputs": [],
   "source": []
  },
  {
   "cell_type": "markdown",
   "metadata": {},
   "source": [
    "# Задача 1.2\n",
    "#### Получите первый и последний элемент списка"
   ]
  },
  {
   "cell_type": "code",
   "execution_count": 1,
   "metadata": {},
   "outputs": [],
   "source": [
    "lst = ['Нулевой элемент', 'One', 2, 3, 4, (5, 5, 5)]"
   ]
  },
  {
   "cell_type": "code",
   "execution_count": null,
   "metadata": {},
   "outputs": [],
   "source": []
  },
  {
   "cell_type": "markdown",
   "metadata": {},
   "source": [
    "# Задача 1.3\n",
    "#### Поменяйте значения переменных a и b местами (тремя способами, через фишку питона, через третью переменную и сложением)"
   ]
  },
  {
   "cell_type": "code",
   "execution_count": null,
   "metadata": {},
   "outputs": [],
   "source": []
  },
  {
   "cell_type": "markdown",
   "metadata": {},
   "source": [
    "# Задача 1.4\n",
    "#### Проверить, есть ли в последовательности дубликаты"
   ]
  },
  {
   "cell_type": "code",
   "execution_count": null,
   "metadata": {},
   "outputs": [],
   "source": []
  },
  {
   "cell_type": "markdown",
   "metadata": {},
   "source": [
    "# Задача 1.5\n",
    "#### 1. Создать произвольный словарь\n",
    "#### 2. Добавить новый элемент с ключом типа str и значением типа int \n",
    "#### 3. Добавить новый элемент с ключом типа кортеж(tuple) и значением типа список(list)\n",
    "#### 4. Получить элемент по ключу\n",
    "#### 5. Удалить элемент по ключу\n",
    "#### 6. Получить список ключей словаря"
   ]
  },
  {
   "cell_type": "code",
   "execution_count": null,
   "metadata": {},
   "outputs": [],
   "source": []
  },
  {
   "cell_type": "markdown",
   "metadata": {},
   "source": [
    "# Задача 1.6\n",
    "#### 1. Создать множество(set) \n",
    "#### 2. Выполнить операцию объединения созданных множеств\n",
    "#### 3. Выполнить операцию пересечения созданных множеств "
   ]
  },
  {
   "cell_type": "code",
   "execution_count": null,
   "metadata": {},
   "outputs": [],
   "source": []
  },
  {
   "cell_type": "markdown",
   "metadata": {},
   "source": [
    "# Задача 2.1\n",
    "#### Создать функцию calc(a, b, operation). Описание входных параметров:\n",
    "#### 1. Первое число\n",
    "#### 2. Второе число\n",
    "#### 3. Действие над ними:\n",
    " #####   1) + Сложить\n",
    " #####  2) - Вычесть\n",
    " #####   3) * Умножить\n",
    " #####  4) / Разделить\n",
    " #####  5) В остальных случаях функция должна возвращать \"Операция не поддерживается\""
   ]
  },
  {
   "cell_type": "code",
   "execution_count": null,
   "metadata": {},
   "outputs": [],
   "source": []
  },
  {
   "cell_type": "markdown",
   "metadata": {},
   "source": [
    "# Задача 2.2\n",
    "#### Напишите программу, которая будет выводить нечетные числа из списка и остановится, если встретит число 139"
   ]
  },
  {
   "cell_type": "code",
   "execution_count": null,
   "metadata": {},
   "outputs": [],
   "source": []
  },
  {
   "cell_type": "markdown",
   "metadata": {},
   "source": [
    "# Задача 2.3\n",
    "#### Создайте список [ 18, 14, 10, 6, 2 ]  с помощью функции range()"
   ]
  },
  {
   "cell_type": "code",
   "execution_count": null,
   "metadata": {},
   "outputs": [],
   "source": []
  },
  {
   "cell_type": "markdown",
   "metadata": {},
   "source": [
    "# Задача 2.4\n",
    "\n",
    "#### Дан список lst = [11, 5, 8, 32, 15, 3, 20, 132, 21, 4, 555, 9, 20]. \n",
    "#### Необходимо вывести элементы, которые одновременно 1) меньше 30 и 2) делятся на 3 без остатка. Все остальные элементы списка необходимо просуммировать и вывести конечный результат."
   ]
  },
  {
   "cell_type": "code",
   "execution_count": null,
   "metadata": {},
   "outputs": [],
   "source": []
  },
  {
   "cell_type": "markdown",
   "metadata": {},
   "source": [
    "# Задача 2.5\n",
    "\n",
    "#### Написать функцию month_to_season(), которая принимает 1 аргумент - номер месяца - и возвращает название сезона, к которому относится этот месяц. \n",
    "###### Например, передаем 2, на выходе получаем 'Зима'. "
   ]
  },
  {
   "cell_type": "code",
   "execution_count": null,
   "metadata": {},
   "outputs": [],
   "source": []
  },
  {
   "cell_type": "markdown",
   "metadata": {},
   "source": [
    "# Задача 3.1\n",
    "#### Дана следующая строка: ‘Сидел барсук в своей норе и ел картошечку пюре’\n",
    "\n",
    "#### 1. Создайте данную строку\n",
    "#### 2. Получите ее длину\n",
    "#### 3. Проведите операцию сложения со строкой ‘.’\n",
    "#### 4. Проверьте, входит ли подстрока ‘ре’ в заданную строку\n",
    "#### 5. Посчитайте количество вхождений подстроки ‘ре’\n",
    "#### 6. Получите предпоследний символ строки\n",
    "#### 7. Получите все символы с нечетными индексами\n",
    "#### 8. Определите, сколько слов в строке"
   ]
  },
  {
   "cell_type": "code",
   "execution_count": null,
   "metadata": {},
   "outputs": [],
   "source": []
  },
  {
   "cell_type": "markdown",
   "metadata": {},
   "source": [
    "# Задача 3.2\n",
    "\n",
    "#### Дана строка: ‘пишите код так, как будто сопровождать его будет склонный к насилию психопат, который знает, где вы живете.’\n",
    "\n",
    "#### 1. Начните строку с заглавной буквы, если она находится в нижнем регистре.\n",
    "#### 2. Найдите индекс вхождения подстроки ‘сопровождать’.\n",
    "#### 3. Замените вхождение подстроки ‘сопровождать’ на ‘поддерживать’.\n",
    "#### 4. Разбейте предложение на части по запятым. Соедините части обратно, снова добавив запятые между частями."
   ]
  },
  {
   "cell_type": "code",
   "execution_count": null,
   "metadata": {},
   "outputs": [],
   "source": []
  },
  {
   "cell_type": "markdown",
   "metadata": {},
   "source": [
    "# Задача 3.3\n",
    "\n",
    "#### Сложите цифры целого числа."
   ]
  },
  {
   "cell_type": "code",
   "execution_count": null,
   "metadata": {},
   "outputs": [],
   "source": []
  },
  {
   "cell_type": "markdown",
   "metadata": {},
   "source": [
    "# Задача 3.4\n",
    "#### Выяснить, является ли строка палиндромом (если перевернуть строку, то будет тоже самое)\n",
    "#### TESTS = ['Аргентина манит негра']"
   ]
  },
  {
   "cell_type": "code",
   "execution_count": null,
   "metadata": {},
   "outputs": [],
   "source": []
  },
  {
   "cell_type": "markdown",
   "metadata": {},
   "source": [
    "# Задача 3.5\n",
    "#### Дана строка из двух слов. Поменяйте слова местами. "
   ]
  },
  {
   "cell_type": "code",
   "execution_count": null,
   "metadata": {},
   "outputs": [],
   "source": []
  }
 ],
 "metadata": {
  "kernelspec": {
   "display_name": "Python 3",
   "language": "python",
   "name": "python3"
  },
  "language_info": {
   "codemirror_mode": {
    "name": "ipython",
    "version": 3
   },
   "file_extension": ".py",
   "mimetype": "text/x-python",
   "name": "python",
   "nbconvert_exporter": "python",
   "pygments_lexer": "ipython3",
   "version": "3.8.5"
  }
 },
 "nbformat": 4,
 "nbformat_minor": 4
}
