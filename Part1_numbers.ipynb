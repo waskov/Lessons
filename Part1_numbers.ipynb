{
 "cells": [
  {
   "cell_type": "markdown",
   "metadata": {},
   "source": [
    "## Типы числовых данных"
   ]
  },
  {
   "cell_type": "markdown",
   "metadata": {},
   "source": [
    "int - целочисленные\n",
    "\n",
    "float - вещественные\n",
    "\n",
    "complex - комплексные\n",
    "\n",
    "\n",
    "\n",
    "Decimal - высокоточное вещественное "
   ]
  },
  {
   "cell_type": "code",
   "execution_count": 24,
   "metadata": {},
   "outputs": [
    {
     "data": {
      "text/plain": [
       "5"
      ]
     },
     "execution_count": 24,
     "metadata": {},
     "output_type": "execute_result"
    }
   ],
   "source": [
    "# Перевод числа в целочисленное\n",
    "int(5.55)"
   ]
  },
  {
   "cell_type": "code",
   "execution_count": 20,
   "metadata": {},
   "outputs": [
    {
     "data": {
      "text/plain": [
       "5"
      ]
     },
     "execution_count": 20,
     "metadata": {},
     "output_type": "execute_result"
    }
   ],
   "source": [
    "# Перевод строки в целочисленное\n",
    "int('5')"
   ]
  },
  {
   "cell_type": "code",
   "execution_count": 22,
   "metadata": {},
   "outputs": [
    {
     "ename": "ValueError",
     "evalue": "invalid literal for int() with base 10: '5.5'",
     "output_type": "error",
     "traceback": [
      "\u001b[1;31m---------------------------------------------------------------------------\u001b[0m",
      "\u001b[1;31mValueError\u001b[0m                                Traceback (most recent call last)",
      "\u001b[1;32m<ipython-input-22-b9fcb4cd3570>\u001b[0m in \u001b[0;36m<module>\u001b[1;34m\u001b[0m\n\u001b[1;32m----> 1\u001b[1;33m \u001b[0mint\u001b[0m\u001b[1;33m(\u001b[0m\u001b[1;34m'5.5'\u001b[0m\u001b[1;33m)\u001b[0m\u001b[1;33m\u001b[0m\u001b[1;33m\u001b[0m\u001b[0m\n\u001b[0m",
      "\u001b[1;31mValueError\u001b[0m: invalid literal for int() with base 10: '5.5'"
     ]
    }
   ],
   "source": [
    "# Если в строке нецелочисленное, то перевод приведет к ошибке\n",
    "int('5.5')"
   ]
  },
  {
   "cell_type": "code",
   "execution_count": 23,
   "metadata": {},
   "outputs": [
    {
     "data": {
      "text/plain": [
       "5.5"
      ]
     },
     "execution_count": 23,
     "metadata": {},
     "output_type": "execute_result"
    }
   ],
   "source": [
    "# Перевод строки в вещественные\n",
    "float('5.5')"
   ]
  },
  {
   "cell_type": "code",
   "execution_count": 26,
   "metadata": {},
   "outputs": [
    {
     "name": "stdout",
     "output_type": "stream",
     "text": [
      "0.30000000000000004\n"
     ]
    }
   ],
   "source": [
    "# Проведем вычисление\n",
    "a=0.1+0.1+0.1\n",
    "print(a)"
   ]
  },
  {
   "cell_type": "markdown",
   "metadata": {},
   "source": [
    "Вещественные числа из-за представления чисел в компьютере неточны, и это может привести к ошибкам."
   ]
  },
  {
   "cell_type": "code",
   "execution_count": 32,
   "metadata": {},
   "outputs": [
    {
     "data": {
      "text/plain": [
       "0.3"
      ]
     },
     "execution_count": 32,
     "metadata": {},
     "output_type": "execute_result"
    }
   ],
   "source": [
    "# Можно воспользоваться округлением\n",
    "round(a, 3)"
   ]
  },
  {
   "cell_type": "markdown",
   "metadata": {},
   "source": [
    "round(number, ndigits) - округляет число number до ndigits знаков после запятой (по умолчанию, до нуля знаков, то есть, до ближайшего целого)"
   ]
  },
  {
   "cell_type": "code",
   "execution_count": 38,
   "metadata": {},
   "outputs": [],
   "source": [
    "# Можно использовать класс Decimal. \n",
    "# Для его применения надо создать объект с помощью конструктора. \n",
    "# В конструктор передается строковое значение, которое представляет число.\n",
    "\n",
    "from decimal import *\n",
    "getcontext().prec = 103\n",
    "\n",
    "b=Decimal('0.1')\n",
    "c=b+b+b"
   ]
  },
  {
   "cell_type": "code",
   "execution_count": 40,
   "metadata": {},
   "outputs": [
    {
     "name": "stdout",
     "output_type": "stream",
     "text": [
      "0.3\n"
     ]
    }
   ],
   "source": [
    "print(c)"
   ]
  },
  {
   "cell_type": "code",
   "execution_count": 43,
   "metadata": {},
   "outputs": [
    {
     "ename": "TypeError",
     "evalue": "unsupported operand type(s) for +: 'decimal.Decimal' and 'float'",
     "output_type": "error",
     "traceback": [
      "\u001b[1;31m---------------------------------------------------------------------------\u001b[0m",
      "\u001b[1;31mTypeError\u001b[0m                                 Traceback (most recent call last)",
      "\u001b[1;32m<ipython-input-43-831de84ee5f8>\u001b[0m in \u001b[0;36m<module>\u001b[1;34m\u001b[0m\n\u001b[0;32m      1\u001b[0m \u001b[1;31m# Смешивать в операциях дробные числа float и Decimal нельзя.\u001b[0m\u001b[1;33m\u001b[0m\u001b[1;33m\u001b[0m\u001b[1;33m\u001b[0m\u001b[0m\n\u001b[0;32m      2\u001b[0m \u001b[0mnumber\u001b[0m \u001b[1;33m=\u001b[0m \u001b[0mDecimal\u001b[0m\u001b[1;33m(\u001b[0m\u001b[1;34m\"0.1\"\u001b[0m\u001b[1;33m)\u001b[0m\u001b[1;33m\u001b[0m\u001b[1;33m\u001b[0m\u001b[0m\n\u001b[1;32m----> 3\u001b[1;33m \u001b[0mnumber\u001b[0m \u001b[1;33m=\u001b[0m \u001b[0mnumber\u001b[0m \u001b[1;33m+\u001b[0m \u001b[1;36m0.1\u001b[0m   \u001b[1;31m# здесь возникнет ошибка\u001b[0m\u001b[1;33m\u001b[0m\u001b[1;33m\u001b[0m\u001b[0m\n\u001b[0m",
      "\u001b[1;31mTypeError\u001b[0m: unsupported operand type(s) for +: 'decimal.Decimal' and 'float'"
     ]
    }
   ],
   "source": [
    "# Смешивать в операциях дробные числа float и Decimal нельзя.\n",
    "number = Decimal(\"0.1\")\n",
    "number = number + 0.1   # здесь возникнет ошибка"
   ]
  },
  {
   "cell_type": "code",
   "execution_count": 42,
   "metadata": {},
   "outputs": [
    {
     "name": "stdout",
     "output_type": "stream",
     "text": [
      "0.3000\n"
     ]
    }
   ],
   "source": [
    "# Округление осуществляется с помощью quantize\n",
    "print(c.quantize(Decimal('1.0000')))"
   ]
  },
  {
   "cell_type": "markdown",
   "metadata": {},
   "source": [
    "ROUND_HALF_UP: округляет число в сторону повышения, если после него идет число 5 или выше\n",
    "\n",
    "ROUND_HALF_DOWN: округляет число в сторону повышения, если после него идет число больше 5\n",
    "\n",
    "ROUND_05UP: округляет только 0 до единицы, если после него идет 5\n",
    "\n",
    "ROUND_CEILING: округляет число в большую сторону вне зависимости от того, какое число идет после него\n",
    "\n",
    "ROUND_FLOOR: не округляет число вне зависимости от того, какое число идет после него\n"
   ]
  },
  {
   "cell_type": "code",
   "execution_count": 50,
   "metadata": {},
   "outputs": [
    {
     "name": "stdout",
     "output_type": "stream",
     "text": [
      "ROUND_HALF_UP\n",
      "10.03\n",
      "10.03\n",
      "ROUND_HALF_DOWN\n",
      "10.03\n",
      "10.02\n",
      "ROUND_05UP\n",
      "10.01\n",
      "10.02\n",
      "ROUND_CEILING\n",
      "10.03\n",
      "10.03\n",
      "ROUND_FLOOR\n",
      "10.02\n",
      "10.02\n"
     ]
    }
   ],
   "source": [
    "\n",
    "print('ROUND_HALF_UP')\n",
    "number = Decimal(\"10.026\")\n",
    "print(number.quantize(Decimal(\"1.00\"), ROUND_HALF_UP))       # 10.03\n",
    "number = Decimal(\"10.025\")\n",
    "print(number.quantize(Decimal(\"1.00\"), ROUND_HALF_UP))       # 10.02\n",
    "\n",
    "print('ROUND_HALF_DOWN')\n",
    "number = Decimal(\"10.026\")\n",
    "print(number.quantize(Decimal(\"1.00\"), ROUND_HALF_DOWN))       # 10.03\n",
    "number = Decimal(\"10.025\")\n",
    "print(number.quantize(Decimal(\"1.00\"), ROUND_HALF_DOWN))       # 10.02\n",
    "\n",
    "print('ROUND_05UP')\n",
    "number = Decimal(\"10.005\")\n",
    "print(number.quantize(Decimal(\"1.00\"), ROUND_05UP))       # 10.01 \n",
    "number = Decimal(\"10.025\")\n",
    "print(number.quantize(Decimal(\"1.00\"), ROUND_05UP))       # 10.02\n",
    "\n",
    "print('ROUND_CEILING')\n",
    "number = Decimal(\"10.021\")\n",
    "print(number.quantize(Decimal(\"1.00\"), ROUND_CEILING))       # 10.03\n",
    "number = Decimal(\"10.025\")\n",
    "print(number.quantize(Decimal(\"1.00\"), ROUND_CEILING))       # 10.03\n",
    "\n",
    "print('ROUND_FLOOR')\n",
    "number = Decimal(\"10.021\")\n",
    "print(number.quantize(Decimal(\"1.00\"), ROUND_FLOOR))       # 10.02\n",
    "number = Decimal(\"10.025\")\n",
    "print(number.quantize(Decimal(\"1.00\"), ROUND_FLOOR))       # 10.02"
   ]
  },
  {
   "cell_type": "markdown",
   "metadata": {},
   "source": [
    "## Математические действия"
   ]
  },
  {
   "cell_type": "markdown",
   "metadata": {},
   "source": [
    "x + y - Сложение\n",
    "\n",
    "x - y - Вычитание\n",
    "\n",
    "x * y - Умножение\n",
    "\n",
    "x / y - Деление\n",
    "\n",
    "x // y - Получение целой части от деления\n",
    "\n",
    "x % y - Остаток от деления\n",
    "\n",
    "-x - Смена знака числа\n",
    "\n",
    "abs(x) - Модуль числа\n",
    "\n",
    "divmod(x, y) - Пара (x // y, x % y)\n",
    "\n",
    "x ** y - Возведение в степень\n",
    "\n",
    "pow(x, y, z) - xy по модулю (если модуль задан)"
   ]
  },
  {
   "cell_type": "markdown",
   "metadata": {},
   "source": [
    "## Модуль math"
   ]
  },
  {
   "cell_type": "markdown",
   "metadata": {},
   "source": [
    "Модуль math –  модуль предоставляет обширный функционал для работы с числами.\n",
    "\n",
    "math.ceil(X) – округление до ближайшего большего числа.\n",
    "\n",
    "math.copysign(X, Y) - возвращает число, имеющее модуль такой же, как и у числа X, а знак - как у числа Y.\n",
    "\n",
    "math.fabs(X) - модуль X.\n",
    "\n",
    "math.factorial(X) - факториал числа X.\n",
    "\n",
    "math.floor(X) - округление вниз.\n",
    "\n",
    "math.fmod(X, Y) - остаток от деления X на Y.\n",
    "\n",
    "math.frexp(X) - возвращает мантиссу и экспоненту числа.\n",
    "\n",
    "math.ldexp(X, I) - X * 2i. Функция, обратная функции math.frexp().\n",
    "\n",
    "math.fsum(последовательность) - сумма всех членов последовательности. Эквивалент встроенной функции sum(), но math.fsum() более точна для чисел с плавающей точкой.\n",
    "\n",
    "math.isfinite(X) - является ли X числом.\n",
    "\n",
    "math.isinf(X) - является ли X бесконечностью.\n",
    "\n",
    "math.isnan(X) - является ли X NaN (Not a Number - не число).\n",
    "\n",
    "math.modf(X) - возвращает дробную и целую часть числа X. Оба числа имеют тот же знак, что и X.\n",
    "\n",
    "math.trunc(X) - усекает значение X до целого.\n",
    "\n",
    "math.exp(X) - e^X.\n",
    "\n",
    "math.expm1(X) - e^X - 1. При X → 0 точнее, чем math.exp(X)-1.\n",
    "\n",
    "math.log(X, [base]) - логарифм X по основанию base. Если base не указан, вычисляется натуральный логарифм.\n",
    "\n",
    "math.log1p(X) - натуральный логарифм (1 + X). При X → 0 точнее, чем math.log(1+X).\n",
    "\n",
    "math.log10(X) - логарифм X по основанию 10.\n",
    "\n",
    "math.log2(X) - логарифм X по основанию 2. Новое в Python 3.3.\n",
    "\n",
    "math.pow(X, Y) - X^Y.\n",
    "\n",
    "math.sqrt(X) - квадратный корень из X.\n",
    "\n",
    "math.acos(X) - арккосинус X. В радианах.\n",
    "\n",
    "math.asin(X) - арксинус X. В радианах.\n",
    "\n",
    "math.atan(X) - арктангенс X. В радианах.\n",
    "\n",
    "math.atan2(Y, X) - арктангенс Y/X. В радианах. С учетом четверти, в которой находится точка (X, Y).\n",
    "\n",
    "math.cos(X) - косинус X (X указывается в радианах).\n",
    "\n",
    "math.sin(X) - синус X (X указывается в радианах).\n",
    "\n",
    "math.tan(X) - тангенс X (X указывается в радианах).\n",
    "\n",
    "math.hypot(X, Y) - вычисляет гипотенузу треугольника с катетами X и Y (math.sqrt(x * x + y * y)).\n",
    "\n",
    "math.degrees(X) - конвертирует радианы в градусы.\n",
    "\n",
    "math.radians(X) - конвертирует градусы в радианы.\n",
    "\n",
    "math.cosh(X) - вычисляет гиперболический косинус.\n",
    "\n",
    "math.sinh(X) - вычисляет гиперболический синус.\n",
    "\n",
    "math.tanh(X) - вычисляет гиперболический тангенс.\n",
    "\n",
    "math.acosh(X) - вычисляет обратный гиперболический косинус.\n",
    "\n",
    "math.asinh(X) - вычисляет обратный гиперболический синус.\n",
    "\n",
    "math.atanh(X) - вычисляет обратный гиперболический тангенс.\n",
    "\n",
    "math.gamma(X) - гамма-функция X.\n",
    "\n",
    "math.lgamma(X) - натуральный логарифм гамма-функции X.\n",
    "\n",
    "math.pi - pi = 3,1415926...\n",
    "\n",
    "math.e - e = 2,718281...\n"
   ]
  },
  {
   "cell_type": "code",
   "execution_count": 17,
   "metadata": {},
   "outputs": [
    {
     "name": "stdout",
     "output_type": "stream",
     "text": [
      "pi: 3.141592653589793\n",
      "e: 2.718281828459045\n",
      "sin(pi/6): 0.49999999999999994\n",
      "sin(pi/6): 0.5\n",
      "sqrt(16): 4.0\n"
     ]
    }
   ],
   "source": [
    "import math as mat\n",
    "print('pi:', math.pi)\n",
    "print('e:', math.e)\n",
    "print('sin(pi/6):', math.sin(math.pi/6))\n",
    "print('sin(pi/6):', round(math.sin(math.pi/6), 3))\n",
    "print('sqrt(16):', math.sqrt(16))\n"
   ]
  },
  {
   "cell_type": "markdown",
   "metadata": {},
   "source": [
    "## Модуль random"
   ]
  },
  {
   "cell_type": "markdown",
   "metadata": {},
   "source": [
    "Модуль random предоставляет функции для генерации случайных чисел, букв, случайного выбора элементов последовательности.\n",
    "\n",
    "- random.randrange(start, stop, step) - возвращает случайно выбранное число из последовательности.\n",
    "\n",
    "- random.randint(A, B) - случайное целое число N, A ≤ N ≤ B.\n",
    "\n",
    "- random.choice(sequence) - случайный элемент непустой последовательности.\n",
    "\n",
    "- random.shuffle(sequence) - перемешивает последовательность (изменяется сама последовательность). \n",
    "                                   Поэтому функция не работает для неизменяемых объектов.\n",
    "\n",
    "- random.random() - случайное число от 0 до 1.\n",
    "\n",
    "- random.uniform(A, B) - случайное число с плавающей точкой, A ≤ N ≤ B (или B ≤ N ≤ A).\n",
    "\n",
    "- random.expovariate(lambd) - экспоненциальное распределение. lambd равен 1/среднее желаемое. \n",
    "                            Lambd должен быть отличным от нуля. \n",
    "                            Возвращаемые значения от 0 до плюс бесконечности, если lambd положительно, \n",
    "                            и от минус бесконечности до 0, если lambd отрицательный.\n",
    "\n",
    "- random.gauss(значение, стандартное отклонение) - распределение Гаусса.\n",
    "\n",
    "- random.lognormvariate(mu, sigma) - логарифм нормального распределения. Если взять натуральный логарифм этого распределения, \n",
    "                                   то вы получите нормальное распределение со средним mu и стандартным отклонением sigma. \n",
    "                                   mu может иметь любое значение, и sigma должна быть больше нуля.\n",
    "\n",
    "- random.vonmisesvariate(mu, kappa) - mu - средний угол, выраженный в радианах от 0 до 2π, и kappa - параметр концентрации, \n",
    "                                           который должен быть больше или равен нулю. \n",
    "                                           Если каппа равна нулю, это распределение сводится к случайному углу в диапазоне \n",
    "                                           от 0 до 2π."
   ]
  },
  {
   "cell_type": "code",
   "execution_count": 52,
   "metadata": {},
   "outputs": [],
   "source": [
    "import random"
   ]
  },
  {
   "cell_type": "code",
   "execution_count": 79,
   "metadata": {},
   "outputs": [
    {
     "data": {
      "text/plain": [
       "1"
      ]
     },
     "execution_count": 79,
     "metadata": {},
     "output_type": "execute_result"
    }
   ],
   "source": [
    "random.randint(1, 5)"
   ]
  },
  {
   "cell_type": "code",
   "execution_count": 86,
   "metadata": {},
   "outputs": [
    {
     "data": {
      "text/plain": [
       "4.034012558130751"
      ]
     },
     "execution_count": 86,
     "metadata": {},
     "output_type": "execute_result"
    }
   ],
   "source": [
    "random.uniform(1, 5)"
   ]
  },
  {
   "cell_type": "code",
   "execution_count": 87,
   "metadata": {},
   "outputs": [
    {
     "data": {
      "text/plain": [
       "0.48030156057620255"
      ]
     },
     "execution_count": 87,
     "metadata": {},
     "output_type": "execute_result"
    }
   ],
   "source": [
    "random.random()"
   ]
  },
  {
   "cell_type": "code",
   "execution_count": 96,
   "metadata": {},
   "outputs": [
    {
     "data": {
      "text/plain": [
       "3"
      ]
     },
     "execution_count": 96,
     "metadata": {},
     "output_type": "execute_result"
    }
   ],
   "source": [
    "random.randrange(1, 4, 1)"
   ]
  },
  {
   "cell_type": "code",
   "execution_count": 99,
   "metadata": {},
   "outputs": [],
   "source": [
    "a=[1,2,3,4,5,6]"
   ]
  },
  {
   "cell_type": "code",
   "execution_count": 137,
   "metadata": {},
   "outputs": [
    {
     "data": {
      "text/plain": [
       "4"
      ]
     },
     "execution_count": 137,
     "metadata": {},
     "output_type": "execute_result"
    }
   ],
   "source": [
    "random.choice(a)"
   ]
  },
  {
   "cell_type": "code",
   "execution_count": 152,
   "metadata": {},
   "outputs": [
    {
     "data": {
      "text/plain": [
       "[3, 1, 4, 5, 2, 6]"
      ]
     },
     "execution_count": 152,
     "metadata": {},
     "output_type": "execute_result"
    }
   ],
   "source": [
    "random.shuffle(a) \n",
    "a"
   ]
  },
  {
   "cell_type": "code",
   "execution_count": null,
   "metadata": {},
   "outputs": [],
   "source": []
  },
  {
   "cell_type": "code",
   "execution_count": null,
   "metadata": {},
   "outputs": [],
   "source": []
  }
 ],
 "metadata": {
  "kernelspec": {
   "display_name": "Python 3",
   "language": "python",
   "name": "python3"
  },
  "language_info": {
   "codemirror_mode": {
    "name": "ipython",
    "version": 3
   },
   "file_extension": ".py",
   "mimetype": "text/x-python",
   "name": "python",
   "nbconvert_exporter": "python",
   "pygments_lexer": "ipython3",
   "version": "3.8.5"
  }
 },
 "nbformat": 4,
 "nbformat_minor": 4
}
