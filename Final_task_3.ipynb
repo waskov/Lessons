{
 "cells": [
  {
   "cell_type": "markdown",
   "metadata": {},
   "source": [
    "### Task 1 – Sample Calculation (10 points)\n",
    "Write a program to show how deposits will grow. The program should read the initial balance of customers and also the annual interest rate. Note that, the interest is compounded monthly. After reading the inputs, the program should print the balance after the first four months."
   ]
  },
  {
   "cell_type": "markdown",
   "metadata": {},
   "source": [
    "#### example\n",
    "Total balance: 2000\n",
    "\n",
    "Annual interest rate in percent: 4\n",
    "\n",
    "After first month: 2006.67\n",
    "\n",
    "After second month: 2013.36\n",
    "\n",
    "After third month: 2020.07\n",
    "\n",
    "After fourth month: 2026.80"
   ]
  },
  {
   "cell_type": "code",
   "execution_count": null,
   "metadata": {},
   "outputs": [],
   "source": []
  },
  {
   "cell_type": "code",
   "execution_count": null,
   "metadata": {},
   "outputs": [],
   "source": []
  },
  {
   "cell_type": "markdown",
   "metadata": {},
   "source": [
    "### Task 2 – If/Else (20 points)\n",
    "You need to write a program that prints monthly paycheck for an employee. The program should read the name and salary (hourly rates), as well as the total number of hours worked in the past month. Make sure that your program accepts fractional hours. Then the program should calculate the pay. If the employee is worked more than 160 hours per month, then they overtime work (over 160 hours) should be paid at 150 percent of their regular wage."
   ]
  },
  {
   "cell_type": "markdown",
   "metadata": {},
   "source": [
    "#### example\n",
    "\n",
    "Enter employee name: Samira Farivar\n",
    "\n",
    "Enter the hourly rate: 15\n",
    "\n",
    "Enter the number of hours worked in the past month: 175\n",
    "\n",
    "Employee:  Samira Farivar \n",
    "\n",
    "The pay will be $ 2737.50 for 175.0 hours of work"
   ]
  },
  {
   "cell_type": "code",
   "execution_count": null,
   "metadata": {},
   "outputs": [],
   "source": []
  },
  {
   "cell_type": "code",
   "execution_count": null,
   "metadata": {},
   "outputs": [],
   "source": []
  },
  {
   "cell_type": "markdown",
   "metadata": {},
   "source": [
    "### Task 3– While Loops (30 points)\n",
    "You should write a program that can convert the Canadian dollar to Japanese Yen. The program should first read today’s price for one CAD in Japanese Yen (search it on google); and then should read the values (in CAD) that you want to convert to Yen. You can use 0 as a sentinel."
   ]
  },
  {
   "cell_type": "markdown",
   "metadata": {},
   "source": [
    "#### example \n",
    "\n",
    "How many yen in CAD: 86.42\n",
    "    \n",
    "Enter an amount in CAD (0 to quit): 1\n",
    "    \n",
    "1.0 CAD is 86.42 yen\n",
    "\n",
    "Enter an amount in CAD (0 to quit): 1000\n",
    "    \n",
    "1000.0 CAD is 86420.0 yen\n",
    "\n",
    "Enter an amount in CAD (0 to quit): 2000\n",
    "    \n",
    "2000.0 CAD is 172840.0 yen\n",
    "\n",
    "Enter an amount in CAD (0 to quit): 0"
   ]
  },
  {
   "cell_type": "code",
   "execution_count": null,
   "metadata": {},
   "outputs": [],
   "source": []
  },
  {
   "cell_type": "code",
   "execution_count": null,
   "metadata": {},
   "outputs": [],
   "source": []
  },
  {
   "cell_type": "markdown",
   "metadata": {},
   "source": [
    "### Task 4– Functions (30 points)\n",
    "Write a program which calculates amount of financial assistance for needy families. The rules are as follows:\n",
    "\n",
    "• If the annual household income is between  40,000 and  50,000 and the household has at least three children, the amount is $1,200 per child.\n",
    "\n",
    "• If the annual household income is between 30,000 and 40,000 and the household has at least two children, the amount is $1,700 per child.\n",
    "\n",
    "• If the annual household income is less than 30,000, the amount is $2,100 per child.\n",
    "\n",
    "In the program, you should define a function to do the computation. The program should read the household income and number of children and should print the amount of financial assistance. You can use -1 as a sentinel value."
   ]
  },
  {
   "cell_type": "markdown",
   "metadata": {},
   "source": [
    "#### example \n",
    "\n",
    "What is the household income (-1 to quit): 48000\n",
    "\n",
    "How many children: 3\n",
    "\n",
    "The asistance amount is $ 3600.00\n",
    "\n",
    "What is the household income (-1 to quit): 35000\n",
    "\n",
    "How many children: 2\n",
    "\n",
    "The asistance amount is $ 3400.00\n",
    "\n",
    "What is the household income (-1 to quit): 20000\n",
    "\n",
    "How many children: 4\n",
    "\n",
    "The asistance amount is $ 8400.00\n",
    "\n",
    "What is the household income (-1 to quit): 55000\n",
    "\n",
    "How many children: 1\n",
    "\n",
    "The asistance amount is $ 0.00\n",
    "\n",
    "What is the household income (-1 to quit): -1"
   ]
  },
  {
   "cell_type": "code",
   "execution_count": null,
   "metadata": {},
   "outputs": [],
   "source": []
  },
  {
   "cell_type": "code",
   "execution_count": null,
   "metadata": {},
   "outputs": [],
   "source": []
  }
 ],
 "metadata": {
  "kernelspec": {
   "display_name": "Python 3",
   "language": "python",
   "name": "python3"
  },
  "language_info": {
   "codemirror_mode": {
    "name": "ipython",
    "version": 3
   },
   "file_extension": ".py",
   "mimetype": "text/x-python",
   "name": "python",
   "nbconvert_exporter": "python",
   "pygments_lexer": "ipython3",
   "version": "3.8.5"
  }
 },
 "nbformat": 4,
 "nbformat_minor": 4
}
