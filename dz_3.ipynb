{
  "nbformat": 4,
  "nbformat_minor": 0,
  "metadata": {
    "colab": {
      "name": "dz_3.ipynb",
      "provenance": [],
      "collapsed_sections": [],
      "authorship_tag": "ABX9TyO+4kFpCU60VVVZsynpsBCm"
    },
    "kernelspec": {
      "name": "python3",
      "display_name": "Python 3"
    },
    "language_info": {
      "name": "python"
    }
  },
  "cells": [
    {
      "cell_type": "code",
      "execution_count": null,
      "metadata": {
        "colab": {
          "base_uri": "https://localhost:8080/"
        },
        "id": "WmFt2z64JP9N",
        "outputId": "218e8c19-a992-48bd-f44e-f44386c21534"
      },
      "outputs": [
        {
          "output_type": "stream",
          "name": "stdout",
          "text": [
            "{98, 35, 15, 213, 54, 119}\n"
          ]
        }
      ],
      "source": [
        "#Задание 1\n",
        "#Дана переменная, в которой хранится словарь, содержащий гео-метки для каждого пользователя (пример структуры данных приведен ниже). \n",
        "#Вам необходимо написать программу, которая выведет на экран множество уникальных гео-меток всех пользователей.\n",
        "\n",
        "def geo_marker(geo_dict):\n",
        "  my_geo_list = []\n",
        "  for i in geo_dict.values():\n",
        "    my_geo_list.extend(i)\n",
        "  print(set(my_geo_list))\n",
        "    \n",
        "\n",
        "\n",
        "geo_marker({'user1': [213, 213, 213, 15, 213],\n",
        "'user2': [54, 54, 119, 119, 119],\n",
        "'user3': [213, 98, 98, 35]})\n"
      ]
    },
    {
      "cell_type": "code",
      "source": [
        "#Задание 2\n",
        "#Дана переменная, в которой хранится список поисковых запросов пользователя (пример структуры данных приведен ниже). \n",
        "#Вам необходимо написать программу, которая выведет на экран распределение количества слов в запросах в требуемом виде.\n",
        "\n",
        "def contribution(queries):\n",
        "  list_of_count_words = []\n",
        "  for i in queries:\n",
        "    list_of_count_words.append(len(i.split(' '))) # получил список из количества слов в каждом запросе\n",
        "  \n",
        "  set_of_count_words = set(list_of_count_words) # получил множество из количества слов в запросах\n",
        "  res_dict = {}\n",
        "  sum_of_words = 0\n",
        "  for i in set_of_count_words:\n",
        "    res_dict[i] = list_of_count_words.count(i) # заполняю словарь\n",
        "    sum_of_words += list_of_count_words.count(i) # считаю общее колво вариантов\n",
        "\n",
        "  for key,value in res_dict.items():\n",
        "    print(f'Поисковых запросов, содержащих {key} слов(а): {round(value/sum_of_words*100, 2)} %')\n",
        "      \n",
        "\n",
        "\n",
        "contribution(queries = [\n",
        "'смотреть сериалы онлайн',\n",
        "'новости спорта',\n",
        "'афиша кино',\n",
        "'курс доллара',\n",
        "'сериалы этим летом',\n",
        "'курс по питону',\n",
        "'сериалы про спорт'\n",
        "])\n"
      ],
      "metadata": {
        "colab": {
          "base_uri": "https://localhost:8080/"
        },
        "id": "o9IFGersJ4Ug",
        "outputId": "7c0b69a8-cf37-4e0c-bfca-e48a10227636"
      },
      "execution_count": null,
      "outputs": [
        {
          "output_type": "stream",
          "name": "stdout",
          "text": [
            "Поисковых запросов, содержащих 2 слов(а): 42.86 %\n",
            "Поисковых запросов, содержащих 3 слов(а): 57.14 %\n"
          ]
        }
      ]
    },
    {
      "cell_type": "code",
      "source": [
        "#Задание 3\n",
        "#Дана переменная, в которой хранится информация о затратах и доходе рекламных кампаний по различным источникам. \n",
        "#Необходимо дополнить исходную структуру показателем ROI, который рассчитаем по формуле: (revenue / cost - 1) * 100\n",
        "\n",
        "def adder(results):\n",
        "  for key, value in results.items():\n",
        "      roi = round((value['revenue'] / value['cost'] - 1) * 100, 2)\n",
        "      value['ROI'] = roi\n",
        "  return(results)\n",
        "\n",
        "adder({\n",
        "'vk': {'revenue': 103, 'cost': 98},\n",
        "'yandex': {'revenue': 179, 'cost': 153},\n",
        "'facebook': {'revenue': 103, 'cost': 110},\n",
        "'adwords': {'revenue': 35, 'cost': 34},\n",
        "'twitter': {'revenue': 11, 'cost': 24},\n",
        "})\n"
      ],
      "metadata": {
        "colab": {
          "base_uri": "https://localhost:8080/"
        },
        "id": "YE24PDCVJ4Yn",
        "outputId": "92356c4e-cc2b-4bb7-bc50-b4dc31aae443"
      },
      "execution_count": null,
      "outputs": [
        {
          "output_type": "execute_result",
          "data": {
            "text/plain": [
              "{'adwords': {'ROI': 2.94, 'cost': 34, 'revenue': 35},\n",
              " 'facebook': {'ROI': -6.36, 'cost': 110, 'revenue': 103},\n",
              " 'twitter': {'ROI': -54.17, 'cost': 24, 'revenue': 11},\n",
              " 'vk': {'ROI': 5.1, 'cost': 98, 'revenue': 103},\n",
              " 'yandex': {'ROI': 16.99, 'cost': 153, 'revenue': 179}}"
            ]
          },
          "metadata": {},
          "execution_count": 26
        }
      ]
    },
    {
      "cell_type": "code",
      "source": [
        "#Задание 4\n",
        "#Дана переменная, в которой хранится статистика рекламных каналов по объемам продаж (пример структуры данных приведен ниже). \n",
        "#Напишите программу, которая возвращает название канала с максимальным объемом продаж.\n",
        "def topper(stats):\n",
        "  max_value = 0\n",
        "  max_value_companies = []\n",
        "  for key, value in stats.items():\n",
        "    if value > max_value:\n",
        "      max_value = value\n",
        "      max_value_companies = [key]\n",
        "    elif value == max_value: # модальных значений может быть несколько показано в примере\n",
        "      max_value = value\n",
        "      max_value_companies.append(key)\n",
        "\n",
        "  print('Максимальный объем продаж на рекламном канале: ',','.join(max_value_companies))\n",
        "\n",
        "topper({'facebook': 55, 'yandex': 115, 'vk': 120, 'google': 120, 'email': 42, 'ok': 98})\n"
      ],
      "metadata": {
        "colab": {
          "base_uri": "https://localhost:8080/"
        },
        "id": "y61-B_vJJ4cU",
        "outputId": "83b78ac5-0a84-4313-dec2-ff9f542fb010"
      },
      "execution_count": null,
      "outputs": [
        {
          "output_type": "stream",
          "name": "stdout",
          "text": [
            "Максимальный объем продаж на рекламном канале:  vk,google\n"
          ]
        }
      ]
    },
    {
      "cell_type": "code",
      "source": [
        "# короче\n",
        "#Задание 4 \n",
        "#Дана переменная, в которой хранится статистика рекламных каналов по объемам продаж (пример структуры данных приведен ниже). \n",
        "#Напишите программу, которая возвращает название канала с максимальным объемом продаж.\n",
        "def topper(stats):\n",
        "  max_value = max(stats.values())\n",
        "  max_value_companies = []\n",
        "  [max_value_companies.append(key) for key, value in stats.items() if value == max_value]\n",
        "  print('Максимальный объем продаж на рекламном канале: ', ','.join(max_value_companies))\n",
        "\n",
        "\n",
        "topper({'facebook': 55, 'yandex': 115, 'vk': 120, 'google': 120, 'email': 42, 'ok': 98})"
      ],
      "metadata": {
        "colab": {
          "base_uri": "https://localhost:8080/"
        },
        "id": "4nKNlyeVI6yR",
        "outputId": "64fb1df8-d371-4e06-b33e-13b6497ea9f6"
      },
      "execution_count": null,
      "outputs": [
        {
          "output_type": "stream",
          "name": "stdout",
          "text": [
            "Максимальный объем продаж на рекламном канале:  vk,google\n"
          ]
        }
      ]
    },
    {
      "cell_type": "code",
      "source": [
        "#Задание 5 (необязательно)\n",
        "#Дан список произвольной длины. \n",
        "#Необходимо написать код, который на основе исходного списка составит словарь такого уровня вложенности, какова длина исхондого списка.\n",
        "\n",
        "# рекурсивны подход\n",
        "def archivator (my_list): \n",
        "  my_dict={}\n",
        "  lenght = len(my_list) \n",
        "  \n",
        "  if len(my_list) > 2 :\n",
        "    my_dict[my_list[0 - lenght]] = archivator(my_list[1 - lenght : lenght]) #вызов рекурсии\n",
        "  elif len(my_list) == 2:\n",
        "    my_dict[my_list[1]] = my_list[0]\n",
        "  \n",
        "\n",
        "  return(my_dict) \n",
        "\n"
      ],
      "metadata": {
        "id": "9033M4dHJ4eS"
      },
      "execution_count": null,
      "outputs": []
    },
    {
      "cell_type": "code",
      "source": [
        "archivator(['2018-01-01', 'yandex', 'cpc', 100])"
      ],
      "metadata": {
        "colab": {
          "base_uri": "https://localhost:8080/"
        },
        "id": "9M7GnakSWeBV",
        "outputId": "39500c92-24b6-4c9e-f514-6c0aa8bea6f1"
      },
      "execution_count": null,
      "outputs": [
        {
          "output_type": "execute_result",
          "data": {
            "text/plain": [
              "{'2018-01-01': {'yandex': {100: 'cpc'}}}"
            ]
          },
          "metadata": {},
          "execution_count": 61
        }
      ]
    },
    {
      "cell_type": "code",
      "source": [
        "archivator(['a', 'b', 'c', 'd', 'e', 'f'])"
      ],
      "metadata": {
        "colab": {
          "base_uri": "https://localhost:8080/"
        },
        "id": "91UKLKgOTiNg",
        "outputId": "283f57c4-bab0-4ce7-d7d7-43cd7c035f93"
      },
      "execution_count": null,
      "outputs": [
        {
          "output_type": "execute_result",
          "data": {
            "text/plain": [
              "{'a': {'b': {'c': {'d': {'f': 'e'}}}}}"
            ]
          },
          "metadata": {},
          "execution_count": 62
        }
      ]
    },
    {
      "cell_type": "code",
      "source": [
        "#Задание 5 (необязательно)\n",
        "#Дан список произвольной длины. \n",
        "#Необходимо написать код, который на основе исходного списка составит словарь такого уровня вложенности, какова длина исхондого списка.\n",
        "\n",
        "# обычный подход\n",
        "def archivator (my_list): \n",
        "  my_dict = {}\n",
        "  if len(my_list) > 1:\n",
        "    my_dict[my_list[-2]] = my_list[-1]\n",
        "    for i in reversed(my_list[0:len(my_list)-2]):\n",
        "      res_dict= {}\n",
        "      res_dict[i] = my_dict\n",
        "      my_dict = res_dict\n",
        "      \n",
        "  return(my_dict) "
      ],
      "metadata": {
        "id": "buOBPNBPaBw4"
      },
      "execution_count": null,
      "outputs": []
    },
    {
      "cell_type": "code",
      "source": [
        "archivator(['2018-01-01', 'yandex', 'cpc', 100])"
      ],
      "metadata": {
        "colab": {
          "base_uri": "https://localhost:8080/"
        },
        "id": "vJu2qADlbvUi",
        "outputId": "c95c0619-d21f-4c6f-e4fa-c94655f2b522"
      },
      "execution_count": null,
      "outputs": [
        {
          "output_type": "execute_result",
          "data": {
            "text/plain": [
              "{'2018-01-01': {'yandex': {'cpc': 100}}}"
            ]
          },
          "metadata": {},
          "execution_count": 64
        }
      ]
    },
    {
      "cell_type": "code",
      "source": [
        "archivator(['a', 'b', 'c', 'd', 'e', 'f'])"
      ],
      "metadata": {
        "colab": {
          "base_uri": "https://localhost:8080/"
        },
        "id": "hxsjpjm1bvsG",
        "outputId": "97565dcd-7071-444e-f6e2-32e41d21a029"
      },
      "execution_count": null,
      "outputs": [
        {
          "output_type": "execute_result",
          "data": {
            "text/plain": [
              "{'a': {'b': {'c': {'d': {'e': 'f'}}}}}"
            ]
          },
          "metadata": {},
          "execution_count": 65
        }
      ]
    },
    {
      "cell_type": "code",
      "source": [
        "#Задание 5 (необязательно)\n",
        "#Дан список произвольной длины. \n",
        "#Необходимо написать код, который на основе исходного списка составит словарь такого уровня вложенности, какова длина исхондого списка.\n",
        "\n",
        "# обычный подход\n",
        "def archivator (my_list): \n",
        "  res_dict = {}\n",
        "  if len(my_list) > 1:\n",
        "    res_dict = my_list[-1]\n",
        "    for i in reversed(my_list[0:len(my_list)-1]):\n",
        "      res_dict= {i : res_dict}\n",
        "  \n",
        "      \n",
        "  return(res_dict) "
      ],
      "metadata": {
        "id": "YWY4AFIle934"
      },
      "execution_count": 4,
      "outputs": []
    },
    {
      "cell_type": "code",
      "source": [
        "archivator(['2018-01-01', 'yandex', 'cpc', 100])"
      ],
      "metadata": {
        "colab": {
          "base_uri": "https://localhost:8080/"
        },
        "id": "I0JPm2M9ISxO",
        "outputId": "5c204da0-d620-4b10-82ee-c4060a9f7905"
      },
      "execution_count": 8,
      "outputs": [
        {
          "output_type": "execute_result",
          "data": {
            "text/plain": [
              "{'2018-01-01': {'yandex': {'cpc': 100}}}"
            ]
          },
          "metadata": {},
          "execution_count": 8
        }
      ]
    },
    {
      "cell_type": "code",
      "source": [
        "archivator(['a', 'b', 'c', 'd', 'e', 'f'])"
      ],
      "metadata": {
        "colab": {
          "base_uri": "https://localhost:8080/"
        },
        "id": "UONMEuyZIUG1",
        "outputId": "acc80fcf-9aa3-4026-fed8-50473dbb1f4a"
      },
      "execution_count": 9,
      "outputs": [
        {
          "output_type": "execute_result",
          "data": {
            "text/plain": [
              "{'a': {'b': {'c': {'d': {'e': 'f'}}}}}"
            ]
          },
          "metadata": {},
          "execution_count": 9
        }
      ]
    },
    {
      "cell_type": "code",
      "source": [
        ""
      ],
      "metadata": {
        "id": "jLNn-qXwIWRP"
      },
      "execution_count": null,
      "outputs": []
    }
  ]
}