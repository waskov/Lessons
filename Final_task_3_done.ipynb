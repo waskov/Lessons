{
 "cells": [
  {
   "attachments": {},
   "cell_type": "markdown",
   "metadata": {},
   "source": [
    "### Task 1 – Sample Calculation (10 points)\n",
    "Write a program to show how deposits will grow. The program should read the initial balance of customers and also the annual interest rate. Note that, the interest is compounded monthly. After reading the inputs, the program should print the balance after the first four months."
   ]
  },
  {
   "cell_type": "code",
   "execution_count": 46,
   "metadata": {},
   "outputs": [
    {
     "name": "stdout",
     "output_type": "stream",
     "text": [
      "Total balance: 2000\n",
      "Annual interest rate in percent: 4\n",
      "After first month: 2006.67\n",
      "After second month: 2013.36\n",
      "After third month: 2020.07\n",
      "After fourth month: 2026.80\n"
     ]
    }
   ],
   "source": [
    "try:\n",
    "    balance = float(input('Total balance: '))\n",
    "    percent = float(input('Annual interest rate in percent: '))\n",
    "    \n",
    "    monthes = ['first', 'second', 'third', 'fourth']\n",
    "    for month in monthes:\n",
    "        balance = balance*(1+percent/(100*12))\n",
    "        print(f'After {month} month:', str('{:.2f}'.format(balance)))\n",
    "except ValueError: # check type error\n",
    "    print('error type')\n",
    "\n",
    "\n",
    "\n"
   ]
  },
  {
   "attachments": {},
   "cell_type": "markdown",
   "metadata": {},
   "source": [
    "### Task 2 – If/Else (20 points)\n",
    "You need to write a program that prints monthly paycheck for an employee. The program should read the name and salary (hourly rates), as well as the total number of hours worked in the past month. Make sure that your program accepts fractional hours. Then the program should calculate the pay. If the employee is worked more than 160 hours per month, then they overtime work (over 160 hours) should be paid at 150 percent of their regular wage."
   ]
  },
  {
   "cell_type": "code",
   "execution_count": 65,
   "metadata": {},
   "outputs": [
    {
     "name": "stdout",
     "output_type": "stream",
     "text": [
      "Enter employee name: Samira Farivar\n",
      "Enter the hourly rate: 15\n",
      "Enter the number of hours worked in the past month: 175\n",
      "Employee:  Samira Farivar \n",
      "The pay will be $ 2737.50 for 175.0 hours of work\n"
     ]
    }
   ],
   "source": [
    "try:\n",
    "    name = input('Enter employee name: ')\n",
    "    rate = float(input('Enter the hourly rate: '))\n",
    "    count_hours = float(input('Enter the number of hours worked in the past month: '))\n",
    "    if count_hours > 160:\n",
    "        salary = ((1.5 * count_hours - 80)) * rate\n",
    "    else:\n",
    "        salary = count_hours * rate\n",
    "    print('Employee: ', name, '\\nThe pay will be $', str('{:.2f}'.format(salary)) ,'for', count_hours , 'hours of work')\n",
    "\n",
    "except ValueError: # check type error\n",
    "    print('error type')\n",
    "\n",
    "input()"
   ]
  },
  {
   "cell_type": "markdown",
   "metadata": {},
   "source": [
    "### Task 3– While Loops (30 points)\n",
    "You should write a program that can convert the Canadian dollar to Japanese Yen. The program should first read today’s price for one CAD in Japanese Yen (search it on google); and then should read the values (in CAD) that you want to convert to Yen. You can use 0 as a sentinel."
   ]
  },
  {
   "cell_type": "code",
   "execution_count": 73,
   "metadata": {},
   "outputs": [
    {
     "name": "stdout",
     "output_type": "stream",
     "text": [
      "How many yen in CAD: 86.42\n",
      "Enter an amount in CAD (0 to quit): 1\n",
      "1.0 CAD is 86.42 yen\n",
      "Enter an amount in CAD (0 to quit): 1000\n",
      "1000.0 CAD is 86420.0 yen\n",
      "Enter an amount in CAD (0 to quit): 2000\n",
      "2000.0 CAD is 172840.0 yen\n",
      "Enter an amount in CAD (0 to quit): 0\n"
     ]
    }
   ],
   "source": [
    "try:\n",
    "    rate = float(input('How many yen in CAD: '))\n",
    "    count = -1\n",
    "    while count != 0:\n",
    "        count = float(input('Enter an amount in CAD (0 to quit): '))\n",
    "        if count != 0:\n",
    "            result = count * rate\n",
    "            print(count, 'CAD is', round(result,2),'yen')\n",
    "\n",
    "except ValueError: # check type error\n",
    "    print('error type')\n",
    "    \n",
    "input()"
   ]
  },
  {
   "cell_type": "markdown",
   "metadata": {},
   "source": [
    "### Task 4– Functions (30 points)\n",
    "Write a program which calculates amount of financial assistance for needy families. The rules are as follows:\n",
    "\n",
    "• If the annual household income is between  40,000 and  50,000 and the household has at least three children, the amount is $1,200 per child.\n",
    "\n",
    "• If the annual household income is between 30,000 and 40,000 and the household has at least two children, the amount is $1,700 per child.\n",
    "\n",
    "• If the annual household income is less than 30,000, the amount is $2,100 per child.\n",
    "\n",
    "In the program, you should define a function to do the computation. The program should read the household income and number of children and should print the amount of financial assistance. You can use -1 as a sentinel value."
   ]
  },
  {
   "cell_type": "code",
   "execution_count": 89,
   "metadata": {},
   "outputs": [
    {
     "name": "stdout",
     "output_type": "stream",
     "text": [
      "What is the household income (-1 to quit): 48000\n",
      "How many children: 3\n",
      "The asistance amount is $ 3600.00\n",
      "What is the household income (-1 to quit): 35000\n",
      "How many children: 2\n",
      "The asistance amount is $ 3400.00\n",
      "What is the household income (-1 to quit): 20000\n",
      "How many children: 4\n",
      "The asistance amount is $ 8400.00\n",
      "What is the household income (-1 to quit): 55000\n",
      "How many children: 1\n",
      "The asistance amount is $ 0.00\n",
      "What is the household income (-1 to quit): -1\n"
     ]
    }
   ],
   "source": [
    "def calculation(income, children):\n",
    "    if income >= 40000 and income < 50000 and children >= 3:\n",
    "        for_child = 1200\n",
    "    elif income >= 30000 and income < 40000 and children >= 2:\n",
    "        for_child = 1700\n",
    "    elif income < 30000:\n",
    "        for_child = 2100\n",
    "    else:\n",
    "        for_child = 0\n",
    "            \n",
    "    result = for_child * children\n",
    "    return result\n",
    "\n",
    "try:\n",
    "    income = 0\n",
    "    while income != -1:\n",
    "        income = float(input('What is the household income (-1 to quit): '))\n",
    "        if income != -1:\n",
    "            children = int(input('How many children: '))\n",
    "            result = calculation(income, children)\n",
    "            print('The asistance amount is $', str('{:.2f}'.format(result)))\n",
    "\n",
    "except ValueError: # check type error\n",
    "    print('error type')\n",
    "    \n",
    "input()"
   ]
  },
  {
   "cell_type": "code",
   "execution_count": null,
   "metadata": {},
   "outputs": [],
   "source": []
  },
  {
   "cell_type": "code",
   "execution_count": null,
   "metadata": {},
   "outputs": [],
   "source": []
  }
 ],
 "metadata": {
  "kernelspec": {
   "display_name": "Python 3",
   "language": "python",
   "name": "python3"
  },
  "language_info": {
   "codemirror_mode": {
    "name": "ipython",
    "version": 3
   },
   "file_extension": ".py",
   "mimetype": "text/x-python",
   "name": "python",
   "nbconvert_exporter": "python",
   "pygments_lexer": "ipython3",
   "version": "3.8.5"
  }
 },
 "nbformat": 4,
 "nbformat_minor": 4
}
