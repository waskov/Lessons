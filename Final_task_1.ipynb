{
 "cells": [
  {
   "cell_type": "markdown",
   "metadata": {},
   "source": [
    "# Задача 1\n",
    "#### Есть список a = [1, 1, 2, 3, 5, 8, 13, 21, 34, 55, 89].\n",
    "#### Выведите все элементы, которые меньше 5."
   ]
  },
  {
   "cell_type": "code",
   "execution_count": 4,
   "metadata": {},
   "outputs": [],
   "source": [
    "a = [1, 1, 2, 3, 5, 8, 13, 21, 34, 55, 89]\n"
   ]
  },
  {
   "cell_type": "markdown",
   "metadata": {},
   "source": [
    "# Задача 2\n",
    "#### Даны списки:\n",
    "\n",
    "#### a = [1, 1, 2, 3, 5, 8, 13, 21, 34, 55, 89];\n",
    "#### b = [1, 2, 3, 4, 5, 6, 7, 8, 9, 10, 11, 12, 13].\n",
    "#### Нужно вернуть список, который состоит из элементов, общих для этих двух списков."
   ]
  },
  {
   "cell_type": "code",
   "execution_count": null,
   "metadata": {},
   "outputs": [],
   "source": []
  },
  {
   "cell_type": "markdown",
   "metadata": {},
   "source": [
    "# Задача 3\n",
    "#### Отсортируйте словарь по значению в порядке возрастания и убывания."
   ]
  },
  {
   "cell_type": "code",
   "execution_count": 44,
   "metadata": {},
   "outputs": [
    {
     "data": {
      "text/plain": [
       "{99: 1, 1: 2, 77: 4, 5: 5, 4: 44}"
      ]
     },
     "execution_count": 44,
     "metadata": {},
     "output_type": "execute_result"
    }
   ],
   "source": [
    "dictionary = {1:2,77:4,4:44,5:5,99:1}\n",
    "sort_dict={}\n",
    "val=list(dictionary.values())\n",
    "\n",
    "for i in sorted(val):\n",
    "    for key, values in dictionary.items():\n",
    "        if i==values:\n",
    "            sort_dict[key]= values\n",
    "sort_dict\n"
   ]
  },
  {
   "cell_type": "code",
   "execution_count": 45,
   "metadata": {},
   "outputs": [
    {
     "data": {
      "text/plain": [
       "[44, 5, 4, 2, 1]"
      ]
     },
     "execution_count": 45,
     "metadata": {},
     "output_type": "execute_result"
    }
   ],
   "source": [
    "val.sort(reverse=True)\n",
    "sorted(val, reverse=True)"
   ]
  },
  {
   "cell_type": "markdown",
   "metadata": {},
   "source": [
    "# Задача 4\n",
    "#### Напишите программу для слияния нескольких словарей в один."
   ]
  },
  {
   "cell_type": "code",
   "execution_count": null,
   "metadata": {},
   "outputs": [],
   "source": []
  },
  {
   "cell_type": "markdown",
   "metadata": {},
   "source": [
    "# Задача 5\n",
    "#### Найдите три ключа с самыми высокими значениями в словаре my_dict = {'a':500, 'b':5874, 'c': 560,'d':400, 'e':5874, 'f': 20}."
   ]
  },
  {
   "cell_type": "code",
   "execution_count": null,
   "metadata": {},
   "outputs": [],
   "source": []
  },
  {
   "cell_type": "markdown",
   "metadata": {},
   "source": [
    "# Задача 6\n",
    "#### Напишите код, который переводит целое число в строку, при том что его можно применить в любой системе счисления."
   ]
  },
  {
   "cell_type": "code",
   "execution_count": null,
   "metadata": {},
   "outputs": [],
   "source": []
  },
  {
   "cell_type": "markdown",
   "metadata": {},
   "source": [
    "# Задача 7\n",
    "#### Нужно вывести первые n строк треугольника Паскаля. В этом треугольнике на вершине и по бокам стоят единицы, а каждое число внутри равно сумме двух расположенных над ним чисел."
   ]
  },
  {
   "cell_type": "code",
   "execution_count": null,
   "metadata": {},
   "outputs": [],
   "source": []
  },
  {
   "cell_type": "markdown",
   "metadata": {},
   "source": [
    "# Задача 8\n",
    "#### Напишите проверку на то, является ли строка палиндромом. Палиндром — это слово или фраза, которые одинаково читаются слева направо и справа налево."
   ]
  },
  {
   "cell_type": "code",
   "execution_count": null,
   "metadata": {},
   "outputs": [],
   "source": []
  },
  {
   "cell_type": "markdown",
   "metadata": {},
   "source": [
    "# Задача 9\n",
    "#### Сделайте так, чтобы число секунд отображалось в виде дни:часы:минуты:секунды."
   ]
  },
  {
   "cell_type": "code",
   "execution_count": null,
   "metadata": {},
   "outputs": [],
   "source": []
  },
  {
   "cell_type": "markdown",
   "metadata": {},
   "source": [
    "# Задача 10\n",
    "#### Вы принимаете от пользователя последовательность чисел, разделённых запятой. Составьте список и кортеж с этими числами."
   ]
  },
  {
   "cell_type": "code",
   "execution_count": null,
   "metadata": {},
   "outputs": [],
   "source": []
  },
  {
   "cell_type": "markdown",
   "metadata": {},
   "source": [
    "# Задача 11\n",
    "#### Выведите первый и последний элемент списка."
   ]
  },
  {
   "cell_type": "code",
   "execution_count": null,
   "metadata": {},
   "outputs": [],
   "source": []
  },
  {
   "cell_type": "markdown",
   "metadata": {},
   "source": [
    "# Задача 12\n",
    "#### Напишите программу, которая принимает имя файла и выводит его расширение. Если расширение у файла определить невозможно, выбросите исключение."
   ]
  },
  {
   "cell_type": "code",
   "execution_count": null,
   "metadata": {},
   "outputs": [],
   "source": []
  },
  {
   "cell_type": "markdown",
   "metadata": {},
   "source": [
    "# Задача 13\n",
    "#### При заданном целом числе n посчитайте n + nn + nnn."
   ]
  },
  {
   "cell_type": "code",
   "execution_count": null,
   "metadata": {},
   "outputs": [],
   "source": []
  },
  {
   "cell_type": "markdown",
   "metadata": {},
   "source": [
    "# Задача 14\n",
    "#### Напишите программу, которая выводит чётные числа из заданного списка и останавливается, если встречает число 237."
   ]
  },
  {
   "cell_type": "code",
   "execution_count": null,
   "metadata": {},
   "outputs": [],
   "source": []
  },
  {
   "cell_type": "markdown",
   "metadata": {},
   "source": [
    "# Задача 15\n",
    "##### Напишите программу, которая принимает два списка и выводит все элементы первого, которых нет во втором."
   ]
  },
  {
   "cell_type": "code",
   "execution_count": null,
   "metadata": {},
   "outputs": [],
   "source": []
  },
  {
   "cell_type": "markdown",
   "metadata": {},
   "source": [
    "# Задача 16\n",
    "#### Сложите цифры целого числа."
   ]
  },
  {
   "cell_type": "code",
   "execution_count": null,
   "metadata": {},
   "outputs": [],
   "source": []
  },
  {
   "cell_type": "markdown",
   "metadata": {},
   "source": [
    "# Задача 17\n",
    "#### Посчитайте, сколько раз символ встречается в строке."
   ]
  },
  {
   "cell_type": "code",
   "execution_count": null,
   "metadata": {},
   "outputs": [],
   "source": []
  },
  {
   "cell_type": "markdown",
   "metadata": {},
   "source": [
    "# Задача 18\n",
    "#### Поменяйте значения переменных местами."
   ]
  },
  {
   "cell_type": "code",
   "execution_count": null,
   "metadata": {},
   "outputs": [],
   "source": []
  },
  {
   "cell_type": "markdown",
   "metadata": {},
   "source": [
    "# Задача 19\n",
    "#### С помощью анонимной функции извлеките из списка числа, делимые на 15."
   ]
  },
  {
   "cell_type": "code",
   "execution_count": null,
   "metadata": {},
   "outputs": [],
   "source": []
  },
  {
   "cell_type": "markdown",
   "metadata": {},
   "source": [
    "# Задача 20\n",
    "#### Нужно проверить, все ли числа в последовательности уникальны."
   ]
  },
  {
   "cell_type": "code",
   "execution_count": null,
   "metadata": {},
   "outputs": [],
   "source": []
  },
  {
   "cell_type": "markdown",
   "metadata": {},
   "source": [
    "# Задача 21\n",
    "#### Напишите программу, которая принимает текст и выводит два слова: наиболее часто встречающееся и самое длинное."
   ]
  },
  {
   "cell_type": "code",
   "execution_count": 2,
   "metadata": {},
   "outputs": [],
   "source": [
    "# https://tproger.ru/problems/python-3-exercises-for-beginners-geekbrains/"
   ]
  },
  {
   "cell_type": "code",
   "execution_count": 11,
   "metadata": {},
   "outputs": [
    {
     "data": {
      "text/plain": [
       "68"
      ]
     },
     "execution_count": 11,
     "metadata": {},
     "output_type": "execute_result"
    }
   ],
   "source": [
    "int('44', 16)"
   ]
  },
  {
   "cell_type": "code",
   "execution_count": 4,
   "metadata": {},
   "outputs": [
    {
     "data": {
      "text/plain": [
       "4"
      ]
     },
     "execution_count": 4,
     "metadata": {},
     "output_type": "execute_result"
    }
   ],
   "source": [
    "int(4)"
   ]
  },
  {
   "cell_type": "code",
   "execution_count": 72,
   "metadata": {},
   "outputs": [],
   "source": [
    "\n",
    "def current_row(n):\n",
    "    row=list()\n",
    "    for i in range(n):\n",
    "        if i==0 or i==n-1:\n",
    "            row.append(1)\n",
    "        else:\n",
    "            c_row=current_row(n-1)\n",
    "            row.append(c_row[i-1]+c_row[i])\n",
    "    return row\n",
    " \n",
    "def triangle(m):\n",
    "    result=list()\n",
    "    for i in range(m):\n",
    "        result.append(current_row(i+1))\n",
    "    ### beautify\n",
    "    for j in result:\n",
    "        print(j)"
   ]
  },
  {
   "cell_type": "code",
   "execution_count": 73,
   "metadata": {},
   "outputs": [
    {
     "name": "stdout",
     "output_type": "stream",
     "text": [
      "[1]\n",
      "[1, 1]\n",
      "[1, 2, 1]\n",
      "[1, 3, 3, 1]\n",
      "[1, 4, 6, 4, 1]\n"
     ]
    }
   ],
   "source": [
    "triangle(5)"
   ]
  },
  {
   "cell_type": "code",
   "execution_count": 76,
   "metadata": {},
   "outputs": [
    {
     "name": "stdout",
     "output_type": "stream",
     "text": [
      "[1]\n",
      "[1, 1]\n",
      "[1, 2, 1]\n"
     ]
    }
   ],
   "source": [
    "n=5\n",
    "if n==1:\n",
    "    print([1])\n",
    "elif n==2:\n",
    "    print([1])\n",
    "    a=[1,1]\n",
    "    print(a)\n",
    "else:\n",
    "    print([1])\n",
    "    a=[1,1]\n",
    "    print(a)\n",
    "    i=2\n",
    "\n",
    "    c=[]\n",
    "    for j in range(0,len(a)-1):\n",
    "        c.append(a[j]+a[j+1])\n",
    "    a=[1]\n",
    "    for k in c:    \n",
    "        a.append(k)\n",
    "    a.append(1)\n",
    "print(a)\n",
    "        \n",
    "    "
   ]
  },
  {
   "cell_type": "code",
   "execution_count": null,
   "metadata": {},
   "outputs": [],
   "source": []
  },
  {
   "cell_type": "code",
   "execution_count": null,
   "metadata": {},
   "outputs": [],
   "source": []
  },
  {
   "cell_type": "code",
   "execution_count": 105,
   "metadata": {},
   "outputs": [
    {
     "name": "stdout",
     "output_type": "stream",
     "text": [
      "[1]\n",
      "[1, 1]\n",
      "[1, 2, 1]\n"
     ]
    }
   ],
   "source": [
    "n =7 \n",
    "a = [1] \n",
    "if n == 0: \n",
    "    print(a) \n",
    "elif n == 1: \n",
    "    print(a) \n",
    "    print([1,1]) \n",
    "else: \n",
    "    a = [1, 1] \n",
    "    g = 2\n",
    "    print([1])\n",
    "    a=[1,1]\n",
    "    print(a)\n",
    "    while g<i:\n",
    "        pyramid = [] \n",
    "        for i in range(0,len(a)-1):  \n",
    "            pyramid.append(a[n]+a[n+1]) \n",
    "        a = [1] \n",
    "        for k in pyramid: \n",
    "            a.append(k) \n",
    "        a.append(1) \n",
    "        print(a) \n",
    "        g+=1"
   ]
  },
  {
   "cell_type": "code",
   "execution_count": 108,
   "metadata": {},
   "outputs": [
    {
     "name": "stdout",
     "output_type": "stream",
     "text": [
      "[1]\n",
      "[1, 1]\n",
      "[1, 2, 1]\n",
      "[1, 3, 3, 1]\n",
      "[1, 4, 6, 4, 1]\n"
     ]
    }
   ],
   "source": [
    "n=5\n",
    "if n==1:\n",
    "    print([1])\n",
    "elif n==2:\n",
    "    print([1])\n",
    "    a=[1,1]\n",
    "    print(a)\n",
    "else:\n",
    "    print([1])\n",
    "    a=[1,1]\n",
    "    print(a)\n",
    "    i=2\n",
    "    while i<n:\n",
    "        c=[]\n",
    "        for j in range(0,len(a)-1):\n",
    "            c.append(a[j]+a[j+1])\n",
    "        a=[1]\n",
    "        for k in c:    \n",
    "            a.append(k)\n",
    "        a.append(1)\n",
    "   \n",
    "        print(a)\n",
    "    \n",
    "        i+=1\n",
    "    "
   ]
  },
  {
   "cell_type": "code",
   "execution_count": null,
   "metadata": {},
   "outputs": [],
   "source": []
  }
 ],
 "metadata": {
  "kernelspec": {
   "display_name": "Python 3",
   "language": "python",
   "name": "python3"
  },
  "language_info": {
   "codemirror_mode": {
    "name": "ipython",
    "version": 3
   },
   "file_extension": ".py",
   "mimetype": "text/x-python",
   "name": "python",
   "nbconvert_exporter": "python",
   "pygments_lexer": "ipython3",
   "version": "3.8.5"
  }
 },
 "nbformat": 4,
 "nbformat_minor": 4
}
