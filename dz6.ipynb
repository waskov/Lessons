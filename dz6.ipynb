{
  "nbformat": 4,
  "nbformat_minor": 0,
  "metadata": {
    "colab": {
      "name": "dz6.ipynb",
      "provenance": [],
      "collapsed_sections": [],
      "authorship_tag": "ABX9TyM+gqwJN+7KCKNbu6qqvIAX"
    },
    "kernelspec": {
      "name": "python3",
      "display_name": "Python 3"
    },
    "language_info": {
      "name": "python"
    }
  },
  "cells": [
    {
      "cell_type": "code",
      "execution_count": null,
      "metadata": {
        "id": "DWtFDjpe2lLT"
      },
      "outputs": [],
      "source": [
        "from datetime import datetime"
      ]
    },
    {
      "cell_type": "code",
      "source": [
        "#Задание 1\n",
        "#Печатные газеты использовали свой формат дат для каждого выпуска. Для каждой газеты из списка напишите формат указанной даты для перевода в объект datetime:\n",
        "#The Moscow Times - Wednesday, October 2, 2002\n",
        "#The Guardian - Friday, 11.10.13\n",
        "#Daily News - Thursday, 18 August 1977\n",
        "\n",
        "\n",
        "def str_to_date(data):\n",
        "  data = data.split(' - ')\n",
        "  if data[0] == 'The Moscow Times':\n",
        "    date = datetime.strptime(','.join(data[1].split(', ')[1:3]), '%B %d,%Y')\n",
        "  elif data[0] == 'The Guardian':\n",
        "    date = datetime.strptime(data[1].split(', ')[1], '%d.%m.%y')\n",
        "  elif data[0] == 'Daily News':\n",
        "    date = datetime.strptime(data[1].split(', ')[1], '%d %B %Y')\n",
        "  \n",
        "  print(data, ':', date)\n",
        "\n",
        "\n",
        "str_to_date('The Moscow Times - Wednesday, October 2, 2002')\n",
        "str_to_date('The Guardian - Friday, 11.10.13')\n",
        "str_to_date('Daily News - Thursday, 18 August 1977')"
      ],
      "metadata": {
        "colab": {
          "base_uri": "https://localhost:8080/"
        },
        "id": "ag0sLEME3jSE",
        "outputId": "92ae46ba-858d-4153-c0a1-a1deea9c60ee"
      },
      "execution_count": null,
      "outputs": [
        {
          "output_type": "stream",
          "name": "stdout",
          "text": [
            "['The Moscow Times', 'Wednesday, October 2, 2002'] : 2002-10-02 00:00:00\n",
            "['The Guardian', 'Friday, 11.10.13'] : 2013-10-11 00:00:00\n",
            "['Daily News', 'Thursday, 18 August 1977'] : 1977-08-18 00:00:00\n"
          ]
        }
      ]
    },
    {
      "cell_type": "code",
      "source": [
        ""
      ],
      "metadata": {
        "id": "kouSvGMG6eI6"
      },
      "execution_count": null,
      "outputs": []
    },
    {
      "cell_type": "code",
      "source": [
        "#Задание 2\n",
        "#Дан поток дат в формате YYYY-MM-DD, в которых встречаются некорректные значения:\n",
        "#stream = ['2018-04-02', '2018-02-29', '2018-19-02']\n",
        "#Напишите функцию, которая проверяет эти даты на корректность. Т. е. для каждой даты возвращает True (дата корректна) или False (некорректная дата).\n",
        "\n",
        "def check_date (stream):\n",
        "  for element in stream:\n",
        "    try:\n",
        "      datetime.strptime(element, '%Y-%m-%d')\n",
        "      print((element,True))\n",
        "    except:\n",
        "      print((element,False))\n",
        "\n",
        "stream = ['2018-04-02', '2018-02-29', '2018-19-02']\n",
        "\n",
        "check_date(stream)"
      ],
      "metadata": {
        "colab": {
          "base_uri": "https://localhost:8080/"
        },
        "id": "PU5HNmBL3njB",
        "outputId": "fd61a08c-3b44-4e85-9de2-72a6649ceef5"
      },
      "execution_count": null,
      "outputs": [
        {
          "output_type": "stream",
          "name": "stdout",
          "text": [
            "('2018-04-02', True)\n",
            "('2018-02-29', False)\n",
            "('2018-19-02', False)\n"
          ]
        }
      ]
    },
    {
      "cell_type": "code",
      "source": [
        "#Задание 3\n",
        "#Напишите функцию date_range, которая возвращает список дат за период от start_date до end_date. Даты должны вводиться в формате YYYY-MM-DD. \n",
        "#В случае неверного формата или при start_date > end_date должен возвращаться пустой список.\n",
        "from datetime import timedelta\n",
        "\n",
        "def date_range(start_date, end_date):\n",
        "  list_of_days = []\n",
        "  start_date = datetime.strptime(start_date, '%Y-%m-%d')\n",
        "  end_date = datetime.strptime(end_date, '%Y-%m-%d')\n",
        "  if start_date > end_date:\n",
        "    return list_of_days\n",
        "  else:\n",
        "    return [(start_date + timedelta(days = i)) for i in range((end_date - start_date).days + 1)]\n",
        "    \n",
        "    "
      ],
      "metadata": {
        "id": "O8e1GbEQ3nlv"
      },
      "execution_count": null,
      "outputs": []
    },
    {
      "cell_type": "code",
      "source": [
        "date_range('2020-01-01','2020-02-05')"
      ],
      "metadata": {
        "id": "YyQcbZ-a3noH",
        "colab": {
          "base_uri": "https://localhost:8080/"
        },
        "outputId": "1119a5ba-400a-4639-8c0e-6bc4be959d38"
      },
      "execution_count": null,
      "outputs": [
        {
          "output_type": "execute_result",
          "data": {
            "text/plain": [
              "[datetime.datetime(2020, 1, 1, 0, 0),\n",
              " datetime.datetime(2020, 1, 2, 0, 0),\n",
              " datetime.datetime(2020, 1, 3, 0, 0),\n",
              " datetime.datetime(2020, 1, 4, 0, 0),\n",
              " datetime.datetime(2020, 1, 5, 0, 0),\n",
              " datetime.datetime(2020, 1, 6, 0, 0),\n",
              " datetime.datetime(2020, 1, 7, 0, 0),\n",
              " datetime.datetime(2020, 1, 8, 0, 0),\n",
              " datetime.datetime(2020, 1, 9, 0, 0),\n",
              " datetime.datetime(2020, 1, 10, 0, 0),\n",
              " datetime.datetime(2020, 1, 11, 0, 0),\n",
              " datetime.datetime(2020, 1, 12, 0, 0),\n",
              " datetime.datetime(2020, 1, 13, 0, 0),\n",
              " datetime.datetime(2020, 1, 14, 0, 0),\n",
              " datetime.datetime(2020, 1, 15, 0, 0),\n",
              " datetime.datetime(2020, 1, 16, 0, 0),\n",
              " datetime.datetime(2020, 1, 17, 0, 0),\n",
              " datetime.datetime(2020, 1, 18, 0, 0),\n",
              " datetime.datetime(2020, 1, 19, 0, 0),\n",
              " datetime.datetime(2020, 1, 20, 0, 0),\n",
              " datetime.datetime(2020, 1, 21, 0, 0),\n",
              " datetime.datetime(2020, 1, 22, 0, 0),\n",
              " datetime.datetime(2020, 1, 23, 0, 0),\n",
              " datetime.datetime(2020, 1, 24, 0, 0),\n",
              " datetime.datetime(2020, 1, 25, 0, 0),\n",
              " datetime.datetime(2020, 1, 26, 0, 0),\n",
              " datetime.datetime(2020, 1, 27, 0, 0),\n",
              " datetime.datetime(2020, 1, 28, 0, 0),\n",
              " datetime.datetime(2020, 1, 29, 0, 0),\n",
              " datetime.datetime(2020, 1, 30, 0, 0),\n",
              " datetime.datetime(2020, 1, 31, 0, 0),\n",
              " datetime.datetime(2020, 2, 1, 0, 0),\n",
              " datetime.datetime(2020, 2, 2, 0, 0),\n",
              " datetime.datetime(2020, 2, 3, 0, 0),\n",
              " datetime.datetime(2020, 2, 4, 0, 0),\n",
              " datetime.datetime(2020, 2, 5, 0, 0)]"
            ]
          },
          "metadata": {},
          "execution_count": 34
        }
      ]
    },
    {
      "cell_type": "code",
      "source": [
        "date_range('2022-01-01','2020-02-05')"
      ],
      "metadata": {
        "id": "2PV5CJLM3nqo",
        "colab": {
          "base_uri": "https://localhost:8080/"
        },
        "outputId": "62d135b0-9403-4045-d352-b55517573619"
      },
      "execution_count": null,
      "outputs": [
        {
          "output_type": "execute_result",
          "data": {
            "text/plain": [
              "[]"
            ]
          },
          "metadata": {},
          "execution_count": 35
        }
      ]
    },
    {
      "cell_type": "code",
      "source": [
        "DEFAULT_USER_COUNT = 3\n",
        "\n",
        "def delete_and_return_last_user(region, default_list=['A100', 'A101', 'A102']):\n",
        "  element_to_delete = default_list[-1]\n",
        "  default_list.remove(element_to_delete)\n",
        "  print(default_list) # покажем как меняется список\n",
        "  return default_list[DEFAULT_USER_COUNT-2]"
      ],
      "metadata": {
        "id": "HBF7ruYy3ns7"
      },
      "execution_count": null,
      "outputs": []
    },
    {
      "cell_type": "code",
      "source": [
        "delete_and_return_last_user(3)"
      ],
      "metadata": {
        "colab": {
          "base_uri": "https://localhost:8080/",
          "height": 53
        },
        "id": "oLE-z5K5B0gj",
        "outputId": "fe1ec7e4-ead5-4dc1-8f43-d19a8ef1933f"
      },
      "execution_count": null,
      "outputs": [
        {
          "output_type": "stream",
          "name": "stdout",
          "text": [
            "['A100', 'A101']\n"
          ]
        },
        {
          "output_type": "execute_result",
          "data": {
            "application/vnd.google.colaboratory.intrinsic+json": {
              "type": "string"
            },
            "text/plain": [
              "'A101'"
            ]
          },
          "metadata": {},
          "execution_count": 48
        }
      ]
    },
    {
      "cell_type": "code",
      "source": [
        "delete_and_return_last_user(3)"
      ],
      "metadata": {
        "colab": {
          "base_uri": "https://localhost:8080/",
          "height": 270
        },
        "id": "WcdLKFylB4LY",
        "outputId": "0e7fac7a-3fa8-40a3-cc76-f3d10b5524a4"
      },
      "execution_count": null,
      "outputs": [
        {
          "output_type": "stream",
          "name": "stdout",
          "text": [
            "['A100']\n"
          ]
        },
        {
          "output_type": "error",
          "ename": "IndexError",
          "evalue": "ignored",
          "traceback": [
            "\u001b[0;31m---------------------------------------------------------------------------\u001b[0m",
            "\u001b[0;31mIndexError\u001b[0m                                Traceback (most recent call last)",
            "\u001b[0;32m<ipython-input-49-82ebfbcda496>\u001b[0m in \u001b[0;36m<module>\u001b[0;34m()\u001b[0m\n\u001b[0;32m----> 1\u001b[0;31m \u001b[0mdelete_and_return_last_user\u001b[0m\u001b[0;34m(\u001b[0m\u001b[0;36m3\u001b[0m\u001b[0;34m)\u001b[0m\u001b[0;34m\u001b[0m\u001b[0;34m\u001b[0m\u001b[0m\n\u001b[0m",
            "\u001b[0;32m<ipython-input-47-c4e779ba12d6>\u001b[0m in \u001b[0;36mdelete_and_return_last_user\u001b[0;34m(region, default_list)\u001b[0m\n\u001b[1;32m      5\u001b[0m   \u001b[0mdefault_list\u001b[0m\u001b[0;34m.\u001b[0m\u001b[0mremove\u001b[0m\u001b[0;34m(\u001b[0m\u001b[0melement_to_delete\u001b[0m\u001b[0;34m)\u001b[0m\u001b[0;34m\u001b[0m\u001b[0;34m\u001b[0m\u001b[0m\n\u001b[1;32m      6\u001b[0m   \u001b[0mprint\u001b[0m\u001b[0;34m(\u001b[0m\u001b[0mdefault_list\u001b[0m\u001b[0;34m)\u001b[0m \u001b[0;31m# покажем как меняется\u001b[0m\u001b[0;34m\u001b[0m\u001b[0;34m\u001b[0m\u001b[0m\n\u001b[0;32m----> 7\u001b[0;31m   \u001b[0;32mreturn\u001b[0m \u001b[0mdefault_list\u001b[0m\u001b[0;34m[\u001b[0m\u001b[0mDEFAULT_USER_COUNT\u001b[0m\u001b[0;34m-\u001b[0m\u001b[0;36m2\u001b[0m\u001b[0;34m]\u001b[0m\u001b[0;34m\u001b[0m\u001b[0;34m\u001b[0m\u001b[0m\n\u001b[0m",
            "\u001b[0;31mIndexError\u001b[0m: list index out of range"
          ]
        }
      ]
    },
    {
      "cell_type": "code",
      "source": [
        "delete_and_return_last_user(3)"
      ],
      "metadata": {
        "colab": {
          "base_uri": "https://localhost:8080/",
          "height": 270
        },
        "id": "DBq_56gDCVfP",
        "outputId": "655b9019-7928-44ea-8d48-20bceb87691e"
      },
      "execution_count": null,
      "outputs": [
        {
          "output_type": "stream",
          "name": "stdout",
          "text": [
            "[]\n"
          ]
        },
        {
          "output_type": "error",
          "ename": "IndexError",
          "evalue": "ignored",
          "traceback": [
            "\u001b[0;31m---------------------------------------------------------------------------\u001b[0m",
            "\u001b[0;31mIndexError\u001b[0m                                Traceback (most recent call last)",
            "\u001b[0;32m<ipython-input-50-82ebfbcda496>\u001b[0m in \u001b[0;36m<module>\u001b[0;34m()\u001b[0m\n\u001b[0;32m----> 1\u001b[0;31m \u001b[0mdelete_and_return_last_user\u001b[0m\u001b[0;34m(\u001b[0m\u001b[0;36m3\u001b[0m\u001b[0;34m)\u001b[0m\u001b[0;34m\u001b[0m\u001b[0;34m\u001b[0m\u001b[0m\n\u001b[0m",
            "\u001b[0;32m<ipython-input-47-c4e779ba12d6>\u001b[0m in \u001b[0;36mdelete_and_return_last_user\u001b[0;34m(region, default_list)\u001b[0m\n\u001b[1;32m      5\u001b[0m   \u001b[0mdefault_list\u001b[0m\u001b[0;34m.\u001b[0m\u001b[0mremove\u001b[0m\u001b[0;34m(\u001b[0m\u001b[0melement_to_delete\u001b[0m\u001b[0;34m)\u001b[0m\u001b[0;34m\u001b[0m\u001b[0;34m\u001b[0m\u001b[0m\n\u001b[1;32m      6\u001b[0m   \u001b[0mprint\u001b[0m\u001b[0;34m(\u001b[0m\u001b[0mdefault_list\u001b[0m\u001b[0;34m)\u001b[0m \u001b[0;31m# покажем как меняется\u001b[0m\u001b[0;34m\u001b[0m\u001b[0;34m\u001b[0m\u001b[0m\n\u001b[0;32m----> 7\u001b[0;31m   \u001b[0;32mreturn\u001b[0m \u001b[0mdefault_list\u001b[0m\u001b[0;34m[\u001b[0m\u001b[0mDEFAULT_USER_COUNT\u001b[0m\u001b[0;34m-\u001b[0m\u001b[0;36m2\u001b[0m\u001b[0;34m]\u001b[0m\u001b[0;34m\u001b[0m\u001b[0;34m\u001b[0m\u001b[0m\n\u001b[0m",
            "\u001b[0;31mIndexError\u001b[0m: list index out of range"
          ]
        }
      ]
    },
    {
      "cell_type": "code",
      "source": [
        " #- Что значит ошибка list index out of range? Вызываемый индекс больше чем те, которые есть\n",
        " # - Почему при первом запуске функция работает корректно, а при втором - нет?\n",
        "# длина списка у нас после первого вызова функции уменьшилась на 1, поэтому индесы 0, 1. \n",
        "#Далее запускаем еще раз функцию, длина списка уменьшается еще на 1. Имеется индекс только 0. При вычитание получается DEFAULT_USER_COUNT-2 = 1. \n",
        "#Индекса 1 нет, падаем в ошибку\n",
        "\n",
        "\n"
      ],
      "metadata": {
        "id": "V43kaWV9CWde"
      },
      "execution_count": null,
      "outputs": []
    },
    {
      "cell_type": "code",
      "source": [
        ""
      ],
      "metadata": {
        "id": "Qa5vGQ8HCxWt"
      },
      "execution_count": null,
      "outputs": []
    }
  ]
}