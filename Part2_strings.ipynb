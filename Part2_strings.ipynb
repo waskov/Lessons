{
 "cells": [
  {
   "cell_type": "markdown",
   "metadata": {},
   "source": [
    "## Тип данных string"
   ]
  },
  {
   "cell_type": "code",
   "execution_count": 26,
   "metadata": {},
   "outputs": [],
   "source": [
    "a = 'это и есть строка'"
   ]
  },
  {
   "cell_type": "code",
   "execution_count": 27,
   "metadata": {},
   "outputs": [
    {
     "name": "stdout",
     "output_type": "stream",
     "text": [
      "это и есть строка\n"
     ]
    }
   ],
   "source": [
    "print(a)"
   ]
  },
  {
   "cell_type": "code",
   "execution_count": 30,
   "metadata": {},
   "outputs": [],
   "source": [
    "# это тоже строки\n",
    "b = ''\n",
    "c = ' '\n",
    "d = '*'"
   ]
  },
  {
   "cell_type": "code",
   "execution_count": 31,
   "metadata": {},
   "outputs": [
    {
     "data": {
      "text/plain": [
       "17"
      ]
     },
     "execution_count": 31,
     "metadata": {},
     "output_type": "execute_result"
    }
   ],
   "source": [
    "# Определим длину строки\n",
    "\n",
    "lenght = len(a)\n",
    "lenght"
   ]
  },
  {
   "cell_type": "code",
   "execution_count": 32,
   "metadata": {},
   "outputs": [
    {
     "name": "stdout",
     "output_type": "stream",
     "text": [
      "Прощай,Иван\n"
     ]
    }
   ],
   "source": [
    "name = 'Иван'\n",
    "phrase = 'Прощай,'\n",
    "print(phrase + name)"
   ]
  },
  {
   "cell_type": "code",
   "execution_count": 40,
   "metadata": {
    "slideshow": {
     "slide_type": "-"
    }
   },
   "outputs": [
    {
     "ename": "TypeError",
     "evalue": "can only concatenate str (not \"int\") to str",
     "output_type": "error",
     "traceback": [
      "\u001b[1;31m---------------------------------------------------------------------------\u001b[0m",
      "\u001b[1;31mTypeError\u001b[0m                                 Traceback (most recent call last)",
      "\u001b[1;32m<ipython-input-40-5cfb4a7f0987>\u001b[0m in \u001b[0;36m<module>\u001b[1;34m\u001b[0m\n\u001b[0;32m      3\u001b[0m \u001b[0mage\u001b[0m \u001b[1;33m=\u001b[0m \u001b[1;36m5\u001b[0m\u001b[1;33m\u001b[0m\u001b[1;33m\u001b[0m\u001b[0m\n\u001b[0;32m      4\u001b[0m \u001b[0mend\u001b[0m \u001b[1;33m=\u001b[0m \u001b[1;34m'лет'\u001b[0m\u001b[1;33m\u001b[0m\u001b[1;33m\u001b[0m\u001b[0m\n\u001b[1;32m----> 5\u001b[1;33m \u001b[0mprint\u001b[0m\u001b[1;33m(\u001b[0m\u001b[0mname\u001b[0m \u001b[1;33m+\u001b[0m \u001b[0mage\u001b[0m \u001b[1;33m+\u001b[0m \u001b[0mend\u001b[0m\u001b[1;33m)\u001b[0m\u001b[1;33m\u001b[0m\u001b[1;33m\u001b[0m\u001b[0m\n\u001b[0m",
      "\u001b[1;31mTypeError\u001b[0m: can only concatenate str (not \"int\") to str"
     ]
    }
   ],
   "source": [
    "# числа нельзя складывать со строками\n",
    "\n",
    "age = 5\n",
    "end = 'лет'\n",
    "print(name + age + end)"
   ]
  },
  {
   "cell_type": "code",
   "execution_count": 41,
   "metadata": {
    "slideshow": {
     "slide_type": "slide"
    }
   },
   "outputs": [
    {
     "name": "stdout",
     "output_type": "stream",
     "text": [
      "Иван 5лет\n"
     ]
    }
   ],
   "source": [
    "age = 5\n",
    "end = 'лет'\n",
    "print(name + ' ' + str(age) + end)"
   ]
  },
  {
   "cell_type": "code",
   "execution_count": 54,
   "metadata": {},
   "outputs": [
    {
     "name": "stdout",
     "output_type": "stream",
     "text": [
      "oneoneone\n"
     ]
    }
   ],
   "source": [
    "# Повторяем строку три раза\n",
    "f = 'one'\n",
    "print(f * 3)"
   ]
  },
  {
   "cell_type": "markdown",
   "metadata": {},
   "source": [
    "## Срезы"
   ]
  },
  {
   "cell_type": "code",
   "execution_count": 50,
   "metadata": {},
   "outputs": [
    {
     "name": "stdout",
     "output_type": "stream",
     "text": [
      "это\n",
      "э\n"
     ]
    }
   ],
   "source": [
    "print(a[0]+a[1]+a[2])\n",
    "print(a[0])\n"
   ]
  },
  {
   "cell_type": "code",
   "execution_count": 51,
   "metadata": {},
   "outputs": [
    {
     "name": "stdout",
     "output_type": "stream",
     "text": [
      "это и\n"
     ]
    }
   ],
   "source": [
    "print(a[0:5])"
   ]
  },
  {
   "cell_type": "code",
   "execution_count": 52,
   "metadata": {},
   "outputs": [
    {
     "name": "stdout",
     "output_type": "stream",
     "text": [
      "и есть с\n"
     ]
    }
   ],
   "source": [
    "print(a[4:12])"
   ]
  },
  {
   "cell_type": "code",
   "execution_count": 53,
   "metadata": {},
   "outputs": [
    {
     "name": "stdout",
     "output_type": "stream",
     "text": [
      "и есть строка\n"
     ]
    }
   ],
   "source": [
    "print(a[4:len(a)])"
   ]
  },
  {
   "cell_type": "markdown",
   "metadata": {},
   "source": [
    "## Функция print"
   ]
  },
  {
   "cell_type": "code",
   "execution_count": 57,
   "metadata": {},
   "outputs": [
    {
     "name": "stdout",
     "output_type": "stream",
     "text": [
      "то что хотим вывести"
     ]
    }
   ],
   "source": [
    "print('то что хотим вывести', sep='',end='')"
   ]
  },
  {
   "cell_type": "code",
   "execution_count": 58,
   "metadata": {},
   "outputs": [],
   "source": [
    "# \\n - перевод на новую строку\n",
    "\n",
    "# \\t - знак табуляции\n",
    "\n",
    "# \\\\ - наклонная черта влево\n",
    "\n",
    "# \\' - символ одиночной кавычки\n",
    "\n",
    "# \\\" - символ двойной кавычки"
   ]
  },
  {
   "cell_type": "code",
   "execution_count": 61,
   "metadata": {},
   "outputs": [
    {
     "name": "stdout",
     "output_type": "stream",
     "text": [
      "то\n",
      "что\n",
      "хотим\n",
      "вывести"
     ]
    }
   ],
   "source": [
    "print('то', 'что', 'хотим', 'вывести', sep='\\n',end='')"
   ]
  },
  {
   "cell_type": "code",
   "execution_count": 62,
   "metadata": {},
   "outputs": [
    {
     "name": "stdout",
     "output_type": "stream",
     "text": [
      "то\\что\\хотим\\вывести"
     ]
    }
   ],
   "source": [
    "print('то', 'что', 'хотим', 'вывести', sep='\\\\',end='')"
   ]
  },
  {
   "cell_type": "code",
   "execution_count": 63,
   "metadata": {},
   "outputs": [
    {
     "name": "stdout",
     "output_type": "stream",
     "text": [
      "то\tчто\tхотим\tвывести"
     ]
    }
   ],
   "source": [
    "print('то', 'что', 'хотим', 'вывести', sep='\\t',end='')"
   ]
  },
  {
   "cell_type": "code",
   "execution_count": 64,
   "metadata": {},
   "outputs": [
    {
     "name": "stdout",
     "output_type": "stream",
     "text": [
      "то'что'хотим'вывести"
     ]
    }
   ],
   "source": [
    "print('то', 'что', 'хотим', 'вывести', sep='\\'',end='')"
   ]
  },
  {
   "cell_type": "code",
   "execution_count": 69,
   "metadata": {},
   "outputs": [
    {
     "name": "stdout",
     "output_type": "stream",
     "text": [
      "то+что+хотим+вывести\""
     ]
    }
   ],
   "source": [
    "print('то', 'что', 'хотим', 'вывести', sep='+',end='\\\"')"
   ]
  },
  {
   "cell_type": "markdown",
   "metadata": {},
   "source": [
    "## format Metod"
   ]
  },
  {
   "cell_type": "code",
   "execution_count": 77,
   "metadata": {},
   "outputs": [
    {
     "name": "stdout",
     "output_type": "stream",
     "text": [
      "Можно оставить пропуск для слова\n",
      "Можно оставить место для слова\n"
     ]
    }
   ],
   "source": [
    "say = 'Можно оставить {} для слова'\n",
    "print(say.format('пропуск'))\n",
    "print(say.format('место'))"
   ]
  },
  {
   "cell_type": "code",
   "execution_count": 91,
   "metadata": {},
   "outputs": [
    {
     "data": {
      "text/plain": [
       "'foobarbax'"
      ]
     },
     "execution_count": 91,
     "metadata": {},
     "output_type": "execute_result"
    }
   ],
   "source": [
    "'{0}{1}{2}'.format('foo','bar','bax')"
   ]
  },
  {
   "cell_type": "code",
   "execution_count": 92,
   "metadata": {},
   "outputs": [
    {
     "data": {
      "text/plain": [
       "'foo/bar/bax'"
      ]
     },
     "execution_count": 92,
     "metadata": {},
     "output_type": "execute_result"
    }
   ],
   "source": [
    "'{0}/{1}/{2}'.format('foo','bar','bax')"
   ]
  },
  {
   "cell_type": "code",
   "execution_count": 93,
   "metadata": {},
   "outputs": [
    {
     "data": {
      "text/plain": [
       "'bax/foo/foo'"
      ]
     },
     "execution_count": 93,
     "metadata": {},
     "output_type": "execute_result"
    }
   ],
   "source": [
    "'{2}/{0}/{0}'.format('foo','bar','bax')"
   ]
  },
  {
   "cell_type": "code",
   "execution_count": 95,
   "metadata": {},
   "outputs": [
    {
     "name": "stdout",
     "output_type": "stream",
     "text": [
      "\u001b[32mfoo\n"
     ]
    }
   ],
   "source": [
    "print(\"\\033[32m{}\".format('foo'))"
   ]
  },
  {
   "cell_type": "code",
   "execution_count": 96,
   "metadata": {},
   "outputs": [
    {
     "name": "stdout",
     "output_type": "stream",
     "text": [
      "\u001b[31mfoo\n"
     ]
    }
   ],
   "source": [
    "print(\"\\033[31m{}\".format('foo'))"
   ]
  },
  {
   "cell_type": "code",
   "execution_count": 116,
   "metadata": {},
   "outputs": [
    {
     "name": "stdout",
     "output_type": "stream",
     "text": [
      "\u001b[91mfoo\n"
     ]
    }
   ],
   "source": [
    "print(\"\\033[91m{}\".format('foo'))"
   ]
  },
  {
   "cell_type": "code",
   "execution_count": 97,
   "metadata": {},
   "outputs": [
    {
     "name": "stdout",
     "output_type": "stream",
     "text": [
      "\u001b[30mfoo\n"
     ]
    }
   ],
   "source": [
    "print(\"\\033[30m{}\".format('foo'))"
   ]
  },
  {
   "cell_type": "code",
   "execution_count": 98,
   "metadata": {},
   "outputs": [
    {
     "name": "stdout",
     "output_type": "stream",
     "text": [
      "\u001b[33mfoo\n"
     ]
    }
   ],
   "source": [
    "print(\"\\033[33m{}\".format('foo'))"
   ]
  },
  {
   "cell_type": "code",
   "execution_count": 99,
   "metadata": {},
   "outputs": [
    {
     "name": "stdout",
     "output_type": "stream",
     "text": [
      "\u001b[34mfoo\n"
     ]
    }
   ],
   "source": [
    "print(\"\\033[34m{}\".format('foo'))"
   ]
  },
  {
   "cell_type": "code",
   "execution_count": 114,
   "metadata": {},
   "outputs": [
    {
     "name": "stdout",
     "output_type": "stream",
     "text": [
      "\u001b[1mfoo\n"
     ]
    }
   ],
   "source": [
    "print(\"\\033[1m{}\".format('foo'))"
   ]
  },
  {
   "cell_type": "code",
   "execution_count": 126,
   "metadata": {},
   "outputs": [
    {
     "name": "stdout",
     "output_type": "stream",
     "text": [
      "\u001b[4mfoo\n"
     ]
    }
   ],
   "source": [
    "print(\"\\033[4m{}\".format('foo'))"
   ]
  },
  {
   "cell_type": "markdown",
   "metadata": {},
   "source": [
    "## colorama "
   ]
  },
  {
   "cell_type": "code",
   "execution_count": 6,
   "metadata": {},
   "outputs": [
    {
     "name": "stdout",
     "output_type": "stream",
     "text": [
      "Можно вот так менять цвет \u001b[32mслова\u001b[30m\n",
      "Можно вот так менять цвет \u001b[31mслова\u001b[30m\n",
      "Можно вот так менять цвет \u001b[36mслова\u001b[30m\n",
      "Можно вот так менять цвет \u001b[42mслова\u001b[0m\n",
      "Можно вот так менять цвет \u001b[41mслова\u001b[0m\n",
      "Можно вот так менять цвет \u001b[46mслова\u001b[0m\n",
      "Можно вот так менять цвет \u001b[40m\u001b[31mслова\u001b[0m\n",
      "Можно вот так менять цвет \u001b[1m\u001b[31mслова\u001b[0m\n",
      "Можно вот так менять цвет \u001b[31mслова\u001b[0m\n",
      "Можно вот так менять цвет \u001b[1m\u001b[31mслова\n",
      "Если не сбросить стиль, то все последеющее будет в таком стиле\n",
      "\u001b[1m\u001b[31m 1\n"
     ]
    }
   ],
   "source": [
    "from colorama import Fore, Back, Style\n",
    "\n",
    "print(f'Можно вот так менять цвет {Fore.GREEN}слова{Fore.BLACK}')\n",
    "print(f'Можно вот так менять цвет {Fore.RED}слова{Fore.BLACK}')\n",
    "print(f'Можно вот так менять цвет {Fore.CYAN}слова{Fore.BLACK}')\n",
    "\n",
    "print(f'Можно вот так менять цвет {Back.GREEN}слова{Style.RESET_ALL}')\n",
    "print(f'Можно вот так менять цвет {Back.RED}слова{Style.RESET_ALL}')\n",
    "print(f'Можно вот так менять цвет {Back.CYAN}слова{Style.RESET_ALL}')\n",
    "\n",
    "print(f'Можно вот так менять цвет {Back.BLACK}{Fore.RED}слова{Style.RESET_ALL}')\n",
    "\n",
    "\n",
    "print(f'Можно вот так менять цвет {Style.BRIGHT}{Fore.RED}слова{Style.RESET_ALL}')\n",
    "print(f'Можно вот так менять цвет {Fore.RED}слова{Style.RESET_ALL}')\n",
    "\n",
    "print(f'Можно вот так менять цвет {Style.BRIGHT}{Fore.RED}слова')\n",
    "print('Если не сбросить стиль, то все последеющее будет в таком стиле')\n",
    "x = 1\n",
    "print(f'{Style.BRIGHT}{Fore.RED}',x)"
   ]
  },
  {
   "cell_type": "code",
   "execution_count": null,
   "metadata": {},
   "outputs": [],
   "source": []
  },
  {
   "cell_type": "code",
   "execution_count": null,
   "metadata": {},
   "outputs": [],
   "source": []
  },
  {
   "cell_type": "code",
   "execution_count": null,
   "metadata": {},
   "outputs": [],
   "source": []
  },
  {
   "cell_type": "code",
   "execution_count": 8,
   "metadata": {},
   "outputs": [
    {
     "name": "stdout",
     "output_type": "stream",
     "text": [
      "\u001b[40m\u001b[31m 1\n"
     ]
    }
   ],
   "source": [
    "x = 1\n",
    "print(f'{Back.BLACK}{Fore.RED}',x)"
   ]
  },
  {
   "cell_type": "code",
   "execution_count": null,
   "metadata": {},
   "outputs": [],
   "source": []
  },
  {
   "cell_type": "code",
   "execution_count": null,
   "metadata": {},
   "outputs": [],
   "source": []
  },
  {
   "cell_type": "code",
   "execution_count": null,
   "metadata": {},
   "outputs": [],
   "source": []
  },
  {
   "cell_type": "code",
   "execution_count": null,
   "metadata": {},
   "outputs": [],
   "source": []
  },
  {
   "cell_type": "code",
   "execution_count": null,
   "metadata": {},
   "outputs": [],
   "source": []
  },
  {
   "cell_type": "markdown",
   "metadata": {},
   "source": [
    "## Ввод данных"
   ]
  },
  {
   "cell_type": "code",
   "execution_count": 145,
   "metadata": {},
   "outputs": [
    {
     "name": "stdout",
     "output_type": "stream",
     "text": [
      "ля-ля-ля\n"
     ]
    }
   ],
   "source": [
    "x = input()"
   ]
  },
  {
   "cell_type": "code",
   "execution_count": 151,
   "metadata": {},
   "outputs": [
    {
     "name": "stdout",
     "output_type": "stream",
     "text": [
      "вот, что ты ввел: \" ля-ля-ля \"\n",
      "\" ля-ля-ля \" - это ты ввел\n"
     ]
    }
   ],
   "source": [
    "print('вот, что ты ввел:', '\\\"', x, '\\\"',)\n",
    "print('\\\"', x, '\\\"', '- это ты ввел')"
   ]
  },
  {
   "cell_type": "code",
   "execution_count": 161,
   "metadata": {},
   "outputs": [
    {
     "name": "stdout",
     "output_type": "stream",
     "text": [
      "Введите число:\n",
      "4\n",
      "y =  4\n"
     ]
    },
    {
     "ename": "TypeError",
     "evalue": "can only concatenate str (not \"int\") to str",
     "output_type": "error",
     "traceback": [
      "\u001b[1;31m---------------------------------------------------------------------------\u001b[0m",
      "\u001b[1;31mTypeError\u001b[0m                                 Traceback (most recent call last)",
      "\u001b[1;32m<ipython-input-161-c8051ffeb1ce>\u001b[0m in \u001b[0;36m<module>\u001b[1;34m\u001b[0m\n\u001b[0;32m      2\u001b[0m \u001b[0my\u001b[0m \u001b[1;33m=\u001b[0m \u001b[0minput\u001b[0m\u001b[1;33m(\u001b[0m\u001b[1;33m)\u001b[0m\u001b[1;33m\u001b[0m\u001b[1;33m\u001b[0m\u001b[0m\n\u001b[0;32m      3\u001b[0m \u001b[0mprint\u001b[0m\u001b[1;33m(\u001b[0m\u001b[1;34m'y = '\u001b[0m\u001b[1;33m,\u001b[0m \u001b[0my\u001b[0m\u001b[1;33m)\u001b[0m\u001b[1;33m\u001b[0m\u001b[1;33m\u001b[0m\u001b[0m\n\u001b[1;32m----> 4\u001b[1;33m \u001b[0mprint\u001b[0m\u001b[1;33m(\u001b[0m\u001b[1;34m'y + 1 ='\u001b[0m\u001b[1;33m,\u001b[0m \u001b[0my\u001b[0m \u001b[1;33m+\u001b[0m \u001b[1;36m1\u001b[0m\u001b[1;33m)\u001b[0m\u001b[1;33m\u001b[0m\u001b[1;33m\u001b[0m\u001b[0m\n\u001b[0m",
      "\u001b[1;31mTypeError\u001b[0m: can only concatenate str (not \"int\") to str"
     ]
    }
   ],
   "source": [
    "print('Введите число:')\n",
    "y = input()\n",
    "print('y = ', y)\n",
    "print('y + 1 =', y + 1) "
   ]
  },
  {
   "cell_type": "code",
   "execution_count": 160,
   "metadata": {},
   "outputs": [
    {
     "name": "stdout",
     "output_type": "stream",
     "text": [
      "Введите число:\n",
      "3\n",
      "y =  3\n",
      "y + 1 = 4\n"
     ]
    }
   ],
   "source": [
    "print('Введите число:')\n",
    "y = int(input())\n",
    "print('y = ', y)\n",
    "print('y + 1 =', y + 1) "
   ]
  },
  {
   "cell_type": "markdown",
   "metadata": {},
   "source": [
    "## Методы"
   ]
  },
  {
   "cell_type": "code",
   "execution_count": 7,
   "metadata": {},
   "outputs": [
    {
     "data": {
      "text/plain": [
       "'Hellooheooo'"
      ]
     },
     "execution_count": 7,
     "metadata": {},
     "output_type": "execute_result"
    }
   ],
   "source": [
    "# Вывести строку с большой буквы\n",
    "\n",
    "a = 'hellooheooo'\n",
    "a.capitalize()"
   ]
  },
  {
   "cell_type": "code",
   "execution_count": 8,
   "metadata": {},
   "outputs": [
    {
     "data": {
      "text/plain": [
       "5"
      ]
     },
     "execution_count": 8,
     "metadata": {},
     "output_type": "execute_result"
    }
   ],
   "source": [
    "# Посчитаем сколько 'о' встречается в 'а'\n",
    "a.count('o')"
   ]
  },
  {
   "cell_type": "code",
   "execution_count": 14,
   "metadata": {},
   "outputs": [
    {
     "name": "stdout",
     "output_type": "stream",
     "text": [
      "Is start with f: False\n",
      "Is start with h: True\n",
      "Is start with f: True\n",
      "Is start with h: False\n"
     ]
    }
   ],
   "source": [
    "# Проверим начинается ли 'а' с буквы 'h' и 'f'\n",
    "\n",
    "print('Is start with f:', a.startswith('f'))\n",
    "print('Is start with h:', a.startswith('h'))\n",
    "\n",
    "# Проверим заканчивается ли 'а' на буквы 'o' и 'f'\n",
    "\n",
    "print('Is start with f:', a.endswith('o'))\n",
    "print('Is start with h:', a.endswith('f'))"
   ]
  },
  {
   "cell_type": "code",
   "execution_count": 11,
   "metadata": {},
   "outputs": [
    {
     "data": {
      "text/plain": [
       "'HELLOOHEOOO'"
      ]
     },
     "execution_count": 11,
     "metadata": {},
     "output_type": "execute_result"
    }
   ],
   "source": [
    "# Выведим противополодный регистр\n",
    "\n",
    "a.swapcase()"
   ]
  },
  {
   "cell_type": "markdown",
   "metadata": {},
   "source": [
    "# методы\n",
    "s.upper() – возвращает строку в верхнем регистре\n",
    "\n",
    "s.lower() – возвращает строку в нижнем регистре\n",
    "\n",
    "s.title() – возвращает строку, первый символ которой в верхнем регистре\n",
    "\n",
    "s.find('вет', 2, 3) – возвращает позицию подстроки в интервале либо -1\n",
    "\n",
    "s.count('e', 1, 5) – возвращает количество подстрок в интервале либо -1\n",
    "\n",
    "s.isalpha() – проверяет, состоит ли строка только из букв\n",
    "\n",
    "s.isdigit() – проверяет, состоит ли строка только из чисел\n",
    "\n",
    "s.isupper() – проверяет, написаны ли все символы в верхнем регистре\n",
    "\n",
    "s.islower() – проверяет, написаны ли все символы в нижнем регистре\n",
    "\n",
    "s.istitle() – проверяет, начинается ли строка с большой буквы\n",
    "\n",
    "s.isspace() – проверяет, состоит ли строка только из пробелов\n"
   ]
  },
  {
   "cell_type": "code",
   "execution_count": 16,
   "metadata": {},
   "outputs": [
    {
     "data": {
      "text/plain": [
       "'hellooheooo'"
      ]
     },
     "execution_count": 16,
     "metadata": {},
     "output_type": "execute_result"
    }
   ],
   "source": [
    "a"
   ]
  },
  {
   "cell_type": "code",
   "execution_count": 22,
   "metadata": {},
   "outputs": [
    {
     "data": {
      "text/plain": [
       "8"
      ]
     },
     "execution_count": 22,
     "metadata": {},
     "output_type": "execute_result"
    }
   ],
   "source": [
    "# Найдем o \n",
    "\n",
    "a.find('o', 6,-1)"
   ]
  },
  {
   "cell_type": "code",
   "execution_count": 23,
   "metadata": {},
   "outputs": [
    {
     "data": {
      "text/plain": [
       "2"
      ]
     },
     "execution_count": 23,
     "metadata": {},
     "output_type": "execute_result"
    }
   ],
   "source": [
    "# Посчитаем о в интервале\n",
    "\n",
    "a.count('o', 1, 6) "
   ]
  },
  {
   "cell_type": "code",
   "execution_count": null,
   "metadata": {},
   "outputs": [],
   "source": []
  },
  {
   "cell_type": "code",
   "execution_count": null,
   "metadata": {},
   "outputs": [],
   "source": []
  }
 ],
 "metadata": {
  "kernelspec": {
   "display_name": "Python 3",
   "language": "python",
   "name": "python3"
  },
  "language_info": {
   "codemirror_mode": {
    "name": "ipython",
    "version": 3
   },
   "file_extension": ".py",
   "mimetype": "text/x-python",
   "name": "python",
   "nbconvert_exporter": "python",
   "pygments_lexer": "ipython3",
   "version": "3.8.5"
  }
 },
 "nbformat": 4,
 "nbformat_minor": 4
}
