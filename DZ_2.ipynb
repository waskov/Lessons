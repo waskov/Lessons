{
  "nbformat": 4,
  "nbformat_minor": 0,
  "metadata": {
    "colab": {
      "name": "DZ_2.ipynb",
      "provenance": [],
      "collapsed_sections": [],
      "authorship_tag": "ABX9TyNaSrOXQ+HaP3yuvjT/4Ea/"
    },
    "kernelspec": {
      "name": "python3",
      "display_name": "Python 3"
    },
    "language_info": {
      "name": "python"
    }
  },
  "cells": [
    {
      "cell_type": "code",
      "source": [
        "#Задание 1\n",
        "#Дана переменная, в которой хранится слово из латинских букв. Напишите код, который выводит на экран:\n",
        "\n",
        "#среднюю букву, если число букв в слове нечетное;\n",
        "#две средних буквы, если число букв четное.\n",
        "\n",
        "def middle(phrase):\n",
        "  if len(phrase) % 2 == 0:\n",
        "    start =int(len(phrase) // 2) - 1\n",
        "    stop = int(len(phrase) // 2 ) + 1\n",
        "    print(phrase[start : stop])\n",
        "  else:\n",
        "    print(phrase[int(len(phrase) // 2)])\n",
        "\n",
        "\n",
        "middle('1234')\n",
        "middle('12345')"
      ],
      "metadata": {
        "colab": {
          "base_uri": "https://localhost:8080/"
        },
        "id": "RG73Iizua20v",
        "outputId": "9f845412-7e61-40d5-c9a7-63c5372741c6"
      },
      "execution_count": null,
      "outputs": [
        {
          "output_type": "stream",
          "name": "stdout",
          "text": [
            "23\n",
            "3\n"
          ]
        }
      ]
    },
    {
      "cell_type": "code",
      "source": [
        "#Задание 2\n",
        "#Напишите программу, которая последовательно запрашивает у пользователя числа (по одному за раз) и после первого нуля выводит сумму всех ранее введенных чисел.\n",
        "inp = 1\n",
        "list_of_input = []\n",
        "while inp != '0':\n",
        "  inp = input ('Введите число:')\n",
        "  list_of_input.append(int(inp))\n",
        "  sum_of_list = sum(list_of_input)\n",
        "print(sum_of_list)"
      ],
      "metadata": {
        "colab": {
          "base_uri": "https://localhost:8080/"
        },
        "id": "w79Y1au6bK5d",
        "outputId": "168ceadf-7da2-4dd0-8b9f-8c50e8d97089"
      },
      "execution_count": null,
      "outputs": [
        {
          "output_type": "stream",
          "name": "stdout",
          "text": [
            "Введите число:1\n",
            "Введите число:2\n",
            "Введите число:3\n",
            "Введите число:0\n",
            "6\n"
          ]
        }
      ]
    },
    {
      "cell_type": "code",
      "source": [
        "#Задание 3\n",
        "#Мы делаем MVP dating-сервиса, и у нас есть список парней и девушек.\n",
        "#Выдвигаем гипотезу: лучшие рекомендации мы получим, если просто отсортируем имена по алфавиту и познакомим людей с одинаковыми индексами после сортировки! Но мы не будем никого знакомить, если кто-то может остаться без пары:\n",
        "boys = ['Peter', 'Alex', 'John', 'Arthur', 'Richard']\n",
        "girls = ['Kate', 'Liza', 'Kira', 'Emma', 'Trisha']\n",
        "\n",
        "if len(boys) != len(girls):\n",
        "  print('Внимание, кто-то может остаться без пары!')\n",
        "else:\n",
        "  boys = sorted(boys)\n",
        "  girls = sorted(girls)\n",
        "  \n",
        "  for index in range(len(boys)):\n",
        "    print(boys[index], ' и ', girls[index])\n"
      ],
      "metadata": {
        "colab": {
          "base_uri": "https://localhost:8080/"
        },
        "id": "ZRTafWhqgxqu",
        "outputId": "c1b01796-1fb8-474e-b2b5-6fa26888d9f1"
      },
      "execution_count": null,
      "outputs": [
        {
          "output_type": "stream",
          "name": "stdout",
          "text": [
            "Alex  и  Emma\n",
            "Arthur  и  Kate\n",
            "John  и  Kira\n",
            "Peter  и  Liza\n",
            "Richard  и  Trisha\n"
          ]
        }
      ]
    },
    {
      "cell_type": "code",
      "source": [
        "#Задание 4\n",
        "#У нас есть список, содержащий информацию о среднедневной температуре в Фаренгейтах за произвольный период по странам (структура данных в примере). Необходимо написать код, который рассчитает среднюю температуру за период в Цельсиях(!) для каждой страны.\n",
        "\n",
        "\n",
        "countries_temperature = [\n",
        "['Thailand', [75.2, 77, 78.8, 73.4, 68, 75.2, 77]],\n",
        "['Germany', [57.2, 55.4, 59, 59, 53.6]],\n",
        "['Russia', [35.6, 37.4, 39.2, 41, 42.8, 39.2, 35.6]],\n",
        "['Poland', [50, 50, 53.6, 57.2, 55.4, 55.4]]\n",
        "]\n",
        "\n",
        "for country in countries_temperature:\n",
        "  print(country[0], ' - ', round((sum(country[1]) / len(country[1]) - 32) / 1.8, 1), 'C')\n"
      ],
      "metadata": {
        "colab": {
          "base_uri": "https://localhost:8080/"
        },
        "id": "Ne6qwYyNhdhn",
        "outputId": "5530d542-0920-4250-89b1-13e45494c13f"
      },
      "execution_count": null,
      "outputs": [
        {
          "output_type": "stream",
          "name": "stdout",
          "text": [
            "Thailand  -  23.9 C\n",
            "Germany  -  13.8 C\n",
            "Russia  -  3.7 C\n",
            "Poland  -  12.0 C\n"
          ]
        }
      ]
    },
    {
      "cell_type": "code",
      "source": [
        "\n",
        "#Задание 5 (необязательное)\n",
        "#Дан поток логов по количеству просмотренных страниц для каждого пользователя. \n",
        "#Вам необходимо написать алгоритм, который считает среднее значение просмотров на пользователя. \n",
        "#Т. е. надо посчитать отношение суммы всех просмотров к количеству уникальных пользователей.\n",
        "\n",
        "def counter(stream):\n",
        "  list_of_users = []\n",
        "  sum_list = []\n",
        "  for i in range(len(stream)):\n",
        "    stream_list = stream[i].split(',')\n",
        "    list_of_users.append(stream_list[1])\n",
        "    sum_list.append(stream_list[2])\n",
        "  \n",
        "  count_of_users = len(set(list_of_users))\n",
        "  sum_of_time = sum(list(map(lambda x: int(x),sum_list)))\n",
        "  print('Среднее количество просмотров на уникального пользователя: ', round(sum_of_time / count_of_users, 2))\n",
        "\n",
        "\n",
        "\n",
        "counter([\n",
        "'2018-01-01,user1,3',\n",
        "'2018-01-07,user1,4',\n",
        "'2018-03-29,user1,1',\n",
        "'2018-04-04,user1,13',\n",
        "'2018-01-05,user2,7',\n",
        "'2018-06-14,user3,4',\n",
        "'2018-07-02,user3,10',\n",
        "'2018-03-21,user4,19',\n",
        "'2018-03-22,user4,4',\n",
        "'2018-04-22,user4,8',\n",
        "'2018-05-03,user4,9',\n",
        "'2018-05-11,user4,11'])\n",
        "\n",
        "counter(stream = [\n",
        "'2018-01-01,user100,150',\n",
        "'2018-01-07,user99,205',\n",
        "'2018-03-29,user1001,81'\n",
        "])"
      ],
      "metadata": {
        "colab": {
          "base_uri": "https://localhost:8080/"
        },
        "id": "MyN9AMPlFAwC",
        "outputId": "b49c9a71-d7c9-41e8-a4c7-5840cd8f6a80"
      },
      "execution_count": null,
      "outputs": [
        {
          "output_type": "stream",
          "name": "stdout",
          "text": [
            "Среднее количество просмотров на уникального пользователя:  23.25\n",
            "Среднее количество просмотров на уникального пользователя:  145.33\n"
          ]
        }
      ]
    },
    {
      "cell_type": "code",
      "source": [
        "#Задание 6 (необязательное)\n",
        "#Необходимо у пользователя запрашивать набор чисел разделенных пробелом. В результате в отсортированном порядке должны выводиться числа, которые повторяются в вводе более одного раза.\n",
        "\n",
        "\n",
        "numbers = input().split(' ')\n",
        "set_numbers = set(numbers)\n",
        "list_of_result = []\n",
        "\n",
        "for element_of_set in set_numbers:\n",
        "  counter = 0\n",
        "  for element_of_list in numbers:\n",
        "    if element_of_set == element_of_list:\n",
        "      counter += 1\n",
        "  if counter > 1:\n",
        "    list_of_result.append(int(element_of_set))\n",
        "print(list_of_result)\n",
        "\n",
        "\n",
        "\n",
        "#Введите числа:\n",
        "#4 8 0 3 4 2 0 3\n",
        "#Результат:\n",
        "#0 3 4\n",
        "\n",
        "#Введите числа:\n",
        "#1 1 2 2 3 3\n",
        "#Результат:\n",
        "#1 2 3\n",
        "\n",
        "#Введите числа:\n",
        "#10 15 15 103 200 200 200 1 1 1 1 1 2 2 2\n",
        "#Результат:\n",
        "#1 2 15 200"
      ],
      "metadata": {
        "id": "PK1chvovi1IQ",
        "colab": {
          "base_uri": "https://localhost:8080/"
        },
        "outputId": "dba4b257-2d07-424c-a822-b2239eab7186"
      },
      "execution_count": null,
      "outputs": [
        {
          "output_type": "stream",
          "name": "stdout",
          "text": [
            "10 15 15 103 200 200 200 1 1 1 1 1 2 2 2\n",
            "[200, 2, 1, 15]\n"
          ]
        }
      ]
    },
    {
      "cell_type": "code",
      "source": [
        "#Задание 6 (необязательное) короче\n",
        "numbers = input().split(' ')\n",
        "set_numbers = set(numbers)\n",
        "list_of_result = []\n",
        "\n",
        "for element_of_set in set_numbers:\n",
        "  if numbers.count(element_of_set) > 1:\n",
        "    list_of_result.append(int(element_of_set))\n",
        "\n",
        "print(list_of_result)"
      ],
      "metadata": {
        "id": "xzs-mv9ICTFM",
        "colab": {
          "base_uri": "https://localhost:8080/"
        },
        "outputId": "4cff70f1-cff9-4c18-bb75-a39ca79e8400"
      },
      "execution_count": null,
      "outputs": [
        {
          "output_type": "stream",
          "name": "stdout",
          "text": [
            "1 2 3 4 5 6 1 3 5 \n",
            "[1, 5, 3]\n"
          ]
        }
      ]
    },
    {
      "cell_type": "code",
      "source": [
        ""
      ],
      "metadata": {
        "id": "vMTBkiFJhJDt"
      },
      "execution_count": null,
      "outputs": []
    }
  ]
}