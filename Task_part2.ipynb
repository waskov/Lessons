{
 "cells": [
  {
   "cell_type": "markdown",
   "metadata": {},
   "source": [
    "## Упражнение 2.1\n",
    "#### Программа для чат-бота. Попросите пользователя представится, считайте его имя и поздоровайтесь с пользователем по имени.\n"
   ]
  },
  {
   "cell_type": "code",
   "execution_count": null,
   "metadata": {},
   "outputs": [],
   "source": []
  },
  {
   "cell_type": "markdown",
   "metadata": {},
   "source": [
    "## Упражнение 2.2\n",
    "#### Напишите программу, определяющую сумму и произведение трех чисел (типа int,float), введенных с клавиатуры."
   ]
  },
  {
   "cell_type": "code",
   "execution_count": null,
   "metadata": {},
   "outputs": [],
   "source": []
  },
  {
   "cell_type": "markdown",
   "metadata": {},
   "source": [
    "## Упражнение 2.3\n",
    "#### Спросите у пользователя его имя и возраст. Выведите на экран 'имя пользователя' '-' 'возраст'. Имя должно быть на черном фоне с красными буквами, возраст зелеми буквами."
   ]
  },
  {
   "cell_type": "markdown",
   "metadata": {},
   "source": []
  },
  {
   "cell_type": "markdown",
   "metadata": {},
   "source": [
    "## Упражение 2.4\n",
    "#### Введите любую фразу длиной более 5 символов. Посчитайте длину фразы. Выведите на экран часть фразы от 3 до lenght-2 символа."
   ]
  },
  {
   "cell_type": "code",
   "execution_count": null,
   "metadata": {},
   "outputs": [],
   "source": []
  },
  {
   "cell_type": "markdown",
   "metadata": {},
   "source": [
    "## Упражение 2.5\n",
    "#### Введите любую фразу длиной более 5 символов. Часть фразы выведите на 1 строке, оставшуюся часть на следующей строке зеленым цветом."
   ]
  },
  {
   "cell_type": "code",
   "execution_count": null,
   "metadata": {},
   "outputs": [],
   "source": []
  }
 ],
 "metadata": {
  "kernelspec": {
   "display_name": "Python 3",
   "language": "python",
   "name": "python3"
  },
  "language_info": {
   "codemirror_mode": {
    "name": "ipython",
    "version": 3
   },
   "file_extension": ".py",
   "mimetype": "text/x-python",
   "name": "python",
   "nbconvert_exporter": "python",
   "pygments_lexer": "ipython3",
   "version": "3.8.5"
  }
 },
 "nbformat": 4,
 "nbformat_minor": 4
}
