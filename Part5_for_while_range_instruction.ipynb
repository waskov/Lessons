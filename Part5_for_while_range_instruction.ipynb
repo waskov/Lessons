{
 "cells": [
  {
   "cell_type": "markdown",
   "metadata": {},
   "source": [
    "## Инструкция for"
   ]
  },
  {
   "cell_type": "code",
   "execution_count": 158,
   "metadata": {},
   "outputs": [],
   "source": [
    "lkmlkm = 'hello'"
   ]
  },
  {
   "cell_type": "code",
   "execution_count": 159,
   "metadata": {},
   "outputs": [
    {
     "name": "stdout",
     "output_type": "stream",
     "text": [
      "буква: h\n",
      "буква: e\n",
      "буква: l\n",
      "буква: l\n",
      "буква: o\n"
     ]
    }
   ],
   "source": [
    "for kflnmdsfm in lkmlkm:\n",
    "    print('буква:', kflnmdsfm)"
   ]
  },
  {
   "cell_type": "markdown",
   "metadata": {},
   "source": [
    "Цикл for позволяет перебрать все элементы указанного списка. Цикл сработает ровно\n",
    "столько раз, сколько элементов находится в списке. Имя переменной, в которую на каждом\n",
    "шаге будет помещаться элемент списка, выбирает программист. \n",
    "\n",
    "На первом шаге переменной i будет присвоен первый элемент списка string, равный h.\n",
    "Затем программа переходит в тело цикла for, отделенное отступами (четыре пробела или\n",
    "одна табуляция). В теле цикла содержится вызов функции print, которой передается\n",
    "переменная i.\n",
    "На следующем шаге переменной i присвоится второй элемент списка, равный e.\n",
    "Произойдет вызов функции print для отображения содержимого переменной i на экране\n",
    "и т.д. до тех пор, пока не закончатся элементы в списке!\n"
   ]
  },
  {
   "cell_type": "code",
   "execution_count": 6,
   "metadata": {},
   "outputs": [
    {
     "name": "stdout",
     "output_type": "stream",
     "text": [
      "letter: k\n",
      "letter: e\n",
      "letter: y\n"
     ]
    }
   ],
   "source": [
    "key = list('key')\n",
    "for i in key:\n",
    "    print('letter:', i) "
   ]
  },
  {
   "cell_type": "code",
   "execution_count": 7,
   "metadata": {},
   "outputs": [
    {
     "name": "stdout",
     "output_type": "stream",
     "text": [
      "to small\n",
      "to small\n",
      "to small\n",
      "6\n",
      "7\n"
     ]
    }
   ],
   "source": [
    "a = [1, 3, 5, 6, 7]\n",
    "for i in a:\n",
    "    if i >= 6:\n",
    "        print(i)\n",
    "    else:\n",
    "        print('to small')"
   ]
  },
  {
   "cell_type": "code",
   "execution_count": 17,
   "metadata": {},
   "outputs": [
    {
     "name": "stdout",
     "output_type": "stream",
     "text": [
      "'Rus' without uppercase: us\n"
     ]
    }
   ],
   "source": [
    "contry = 'Rus'\n",
    "lowercountry = []\n",
    "for i in contry:\n",
    "    if i.islower():\n",
    "        lowercountry.append(i)\n",
    "\n",
    "print('\\'Rus\\' without uppercase:', ''.join(lowercountry))"
   ]
  },
  {
   "cell_type": "code",
   "execution_count": null,
   "metadata": {},
   "outputs": [],
   "source": []
  },
  {
   "cell_type": "markdown",
   "metadata": {},
   "source": [
    "## Инструкция range"
   ]
  },
  {
   "cell_type": "markdown",
   "metadata": {},
   "source": [
    "Cоздающет последовательность (диапазон) чисел. В качестве аргументов функция принимает:\n",
    "начальное значение диапазона (по умолчанию 0), \n",
    "конечное значение (не включительно),\n",
    "шаг (по умолчанию 1). "
   ]
  },
  {
   "cell_type": "code",
   "execution_count": 20,
   "metadata": {},
   "outputs": [
    {
     "name": "stdout",
     "output_type": "stream",
     "text": [
      "[1, 2, 3, 4]\n"
     ]
    }
   ],
   "source": [
    "a = list(range(1, 5, 1))\n",
    "print(a)"
   ]
  },
  {
   "cell_type": "code",
   "execution_count": 169,
   "metadata": {},
   "outputs": [
    {
     "name": "stdout",
     "output_type": "stream",
     "text": [
      "14\n"
     ]
    }
   ],
   "source": [
    "summa = 4\n",
    "for i in range(1,5):\n",
    "    summa = summa + i\n",
    "\n",
    "print(summa)"
   ]
  },
  {
   "cell_type": "code",
   "execution_count": null,
   "metadata": {},
   "outputs": [],
   "source": []
  },
  {
   "cell_type": "code",
   "execution_count": 28,
   "metadata": {},
   "outputs": [
    {
     "name": "stdout",
     "output_type": "stream",
     "text": [
      "14\n"
     ]
    }
   ],
   "source": [
    "summa = 4\n",
    "for i in range(1,5):\n",
    "    summa += i\n",
    "print(summa)"
   ]
  },
  {
   "cell_type": "code",
   "execution_count": 29,
   "metadata": {},
   "outputs": [
    {
     "name": "stdout",
     "output_type": "stream",
     "text": [
      "14\n"
     ]
    }
   ],
   "source": [
    "summa = 4\n",
    "summa = summa + sum(list(range(1,5)))\n",
    "print(summa)"
   ]
  },
  {
   "cell_type": "code",
   "execution_count": null,
   "metadata": {},
   "outputs": [],
   "source": []
  },
  {
   "cell_type": "code",
   "execution_count": 182,
   "metadata": {},
   "outputs": [
    {
     "data": {
      "text/plain": [
       "7"
      ]
     },
     "execution_count": 182,
     "metadata": {},
     "output_type": "execute_result"
    }
   ],
   "source": [
    "H= [1,2,4]\n",
    "sum(H)"
   ]
  },
  {
   "cell_type": "code",
   "execution_count": 31,
   "metadata": {},
   "outputs": [
    {
     "name": "stdout",
     "output_type": "stream",
     "text": [
      "[5, 4, 3, 2]\n"
     ]
    }
   ],
   "source": [
    "a = list(range(5, 1, -1))\n",
    "print(a)"
   ]
  },
  {
   "cell_type": "code",
   "execution_count": 186,
   "metadata": {},
   "outputs": [
    {
     "name": "stdout",
     "output_type": "stream",
     "text": [
      "[1, 3, 5]\n"
     ]
    }
   ],
   "source": [
    "a = list(range(1, 6, 2))\n",
    "print(a)"
   ]
  },
  {
   "cell_type": "code",
   "execution_count": 32,
   "metadata": {},
   "outputs": [
    {
     "name": "stdout",
     "output_type": "stream",
     "text": [
      "[1, 2, 4, 5, 6]\n"
     ]
    }
   ],
   "source": [
    "a = [1, 2]\n",
    "for i in range(4,7):\n",
    "    a.append(i)\n",
    "\n",
    "print(a)"
   ]
  },
  {
   "cell_type": "markdown",
   "metadata": {},
   "source": [
    "## Генератор списков"
   ]
  },
  {
   "cell_type": "code",
   "execution_count": 8,
   "metadata": {},
   "outputs": [
    {
     "data": {
      "text/plain": [
       "[1, 2, 3, 4, 5]"
      ]
     },
     "execution_count": 8,
     "metadata": {},
     "output_type": "execute_result"
    }
   ],
   "source": [
    "# с помощью append\n",
    "a = []\n",
    "for i in range (1,6):\n",
    "    a.append(i)\n",
    "a"
   ]
  },
  {
   "cell_type": "code",
   "execution_count": 10,
   "metadata": {},
   "outputs": [
    {
     "data": {
      "text/plain": [
       "[1, 2, 3, 4, 5, 6]"
      ]
     },
     "execution_count": 10,
     "metadata": {},
     "output_type": "execute_result"
    }
   ],
   "source": [
    "# с помощью list\n",
    "a = list(range(1,7))\n",
    "a"
   ]
  },
  {
   "cell_type": "code",
   "execution_count": 191,
   "metadata": {},
   "outputs": [
    {
     "name": "stdout",
     "output_type": "stream",
     "text": [
      "[2, 4, 6, 8, 10]\n"
     ]
    }
   ],
   "source": [
    "# генератором списка\n",
    "\n",
    "a = [i*2 for i in range(1,6)]\n",
    "\n",
    "# (что делаем) for (что берем) in (откуда берем) \n",
    "print(a)\n"
   ]
  },
  {
   "cell_type": "code",
   "execution_count": 192,
   "metadata": {},
   "outputs": [
    {
     "name": "stdout",
     "output_type": "stream",
     "text": [
      "[2, 4, 6, 8, 10]\n"
     ]
    },
    {
     "data": {
      "text/plain": [
       "[5, 11, 17, 23, 29]"
      ]
     },
     "execution_count": 192,
     "metadata": {},
     "output_type": "execute_result"
    }
   ],
   "source": [
    "print(a)\n",
    "b = [i*3-1 for i in a]\n",
    "b"
   ]
  },
  {
   "cell_type": "code",
   "execution_count": 233,
   "metadata": {},
   "outputs": [
    {
     "name": "stdout",
     "output_type": "stream",
     "text": [
      "i= 2 res= 5\n",
      "i= 4 res= 9\n",
      "0.000993490219116211\n",
      "i= 2 res= 5\n",
      "i= 4 res= 9\n",
      "0.001007080078125\n"
     ]
    }
   ],
   "source": [
    "import time\n",
    "start= time.time()\n",
    "b = [print('i=', i, 'res=', i*2+1) for i in range(1,6) if i%2 == 0]\n",
    "\n",
    "stop = time.time() - start\n",
    "print(stop)\n",
    "start= time.time()\n",
    "\n",
    "for i in range(1,6):\n",
    "    if i%2 == 0:\n",
    "        print('i=', i, 'res=', i*2+1)\n",
    "        \n",
    "stop = time.time() - start\n",
    "print(stop)\n",
    "      \n",
    "\n"
   ]
  },
  {
   "cell_type": "code",
   "execution_count": 208,
   "metadata": {},
   "outputs": [],
   "source": [
    "#Задание: создайте список, спросив сколько будет элементов в списке, а далее введите столько элементов с клавиатуры"
   ]
  },
  {
   "cell_type": "code",
   "execution_count": 26,
   "metadata": {},
   "outputs": [
    {
     "name": "stdout",
     "output_type": "stream",
     "text": [
      "4\n",
      "1\n",
      "3\n",
      "2\n"
     ]
    },
    {
     "data": {
      "text/plain": [
       "['1', '3', '2']"
      ]
     },
     "execution_count": 26,
     "metadata": {},
     "output_type": "execute_result"
    }
   ],
   "source": [
    "n=int(input())\n",
    "a = [input() for i in range(1,n)]\n",
    "a\n"
   ]
  },
  {
   "cell_type": "code",
   "execution_count": 29,
   "metadata": {},
   "outputs": [
    {
     "name": "stdout",
     "output_type": "stream",
     "text": [
      "4\n",
      "3\n",
      "55\n"
     ]
    },
    {
     "data": {
      "text/plain": [
       "['4', '3', '55']"
      ]
     },
     "execution_count": 29,
     "metadata": {},
     "output_type": "execute_result"
    }
   ],
   "source": [
    "a=[]\n",
    "for i in range(1,n):\n",
    "    a.append(input())\n",
    "a"
   ]
  },
  {
   "cell_type": "code",
   "execution_count": 1,
   "metadata": {},
   "outputs": [
    {
     "name": "stdout",
     "output_type": "stream",
     "text": [
      "index: 0 element: d\n",
      "index: 1 element: f\n",
      "index: 2 element: g\n",
      "index: 3 element: h\n"
     ]
    }
   ],
   "source": [
    "# enumerate позволяет перебирать и индексы, и элементы\n",
    "\n",
    "for ind, element in enumerate(['d','f','g','h']):\n",
    "    print('index:', ind, 'element:', element)\n",
    "    "
   ]
  },
  {
   "cell_type": "code",
   "execution_count": null,
   "metadata": {},
   "outputs": [],
   "source": []
  },
  {
   "cell_type": "markdown",
   "metadata": {},
   "source": [
    "### Инструкция while"
   ]
  },
  {
   "cell_type": "markdown",
   "metadata": {},
   "source": [
    "цикл for используется, если заранее известно, сколько повторений необходимо выполнить (указывается через аргумент функции range или пока не закончится список/строка).\n",
    "Если заранее количество повторений цикла неизвестно, то применяется другая конструкция, которая называется циклом while:"
   ]
  },
  {
   "cell_type": "code",
   "execution_count": 236,
   "metadata": {},
   "outputs": [
    {
     "name": "stdout",
     "output_type": "stream",
     "text": [
      "5\n",
      "4\n"
     ]
    }
   ],
   "source": [
    "A = 5\n",
    "while A > 3:\n",
    "    print(A)\n",
    "    A = A - 1"
   ]
  },
  {
   "cell_type": "markdown",
   "metadata": {},
   "source": [
    "В начале работы программы переменная A равна 5, затем попадаем в цикл while, \n",
    "т.к. A > 0 будет являться истинным (вернет значение True).\n",
    "В теле цикла вызывается функция print, которая отобразит на экране текущее значение переменной A.\n",
    "Далее переменная уменьшится на 1 и снова произойдет проверка условия while, \n",
    "т.е. 4 > 0 (вернет True). \n",
    "Попадаем в цикл и действия повторяются до тех пор, пока не дойдем до условия 0 > 0. \n",
    "В этом случае вернется логическое значение False и цикл while не сработает."
   ]
  },
  {
   "cell_type": "code",
   "execution_count": null,
   "metadata": {},
   "outputs": [],
   "source": []
  },
  {
   "cell_type": "markdown",
   "metadata": {},
   "source": [
    "## метод isalpha() \n",
    "#### посимвольно проверяем наличие буквы\n"
   ]
  },
  {
   "cell_type": "code",
   "execution_count": 1,
   "metadata": {},
   "outputs": [
    {
     "name": "stdout",
     "output_type": "stream",
     "text": [
      "Встречающиеся цифры:\n",
      "3\n",
      "6\n"
     ]
    }
   ],
   "source": [
    "s = 'aa3aBbb6ccc'\n",
    "print('Встречающиеся цифры:')\n",
    "\n",
    "for i in range(len(s)):\n",
    "    if s[i].isalpha(): \n",
    "        continue # инструкция перехода к следующему шагу цикла\n",
    "    print(s[i])"
   ]
  },
  {
   "cell_type": "code",
   "execution_count": 4,
   "metadata": {},
   "outputs": [
    {
     "name": "stdout",
     "output_type": "stream",
     "text": [
      "3\n",
      "6\n",
      "4\n",
      "4\n",
      "2\n",
      "3\n"
     ]
    }
   ],
   "source": [
    "s = '364423'\n",
    "\n",
    "# Прекратить программу если встречаются буквы\n",
    "\n",
    "for i in range(len(s)):\n",
    "    if s[i].isalpha(): \n",
    "        break # инструкция перехода к следующему шагу цикла\n",
    "    print(s[i])"
   ]
  },
  {
   "cell_type": "code",
   "execution_count": 50,
   "metadata": {},
   "outputs": [
    {
     "name": "stdout",
     "output_type": "stream",
     "text": [
      "3\n",
      "6\n",
      "4\n",
      "Встретилась буква\n"
     ]
    }
   ],
   "source": [
    "s = '364a423'\n",
    "\n",
    "# Прекратить программу если встречаются буквы\n",
    "\n",
    "for i in range(len(s)):\n",
    "    if s[i].isalpha():\n",
    "        print('Встретилась буква')\n",
    "        break # инструкция перехода к следующему шагу цикла\n",
    "    print(s[i])"
   ]
  },
  {
   "cell_type": "markdown",
   "metadata": {},
   "source": [
    "## Вложенный цикл"
   ]
  },
  {
   "cell_type": "code",
   "execution_count": 5,
   "metadata": {},
   "outputs": [
    {
     "name": "stdout",
     "output_type": "stream",
     "text": [
      "i = 1 , j = 1\n",
      "i = 1 , j = 2\n",
      "i = 2 , j = 1\n",
      "i = 2 , j = 2\n",
      "i = 3 , j = 1\n",
      "i = 3 , j = 2\n",
      "i = 4 , j = 1\n",
      "i = 4 , j = 2\n"
     ]
    }
   ],
   "source": [
    "for i in range (1,5):\n",
    "    for j in range(1,3):\n",
    "        print('i =', i, ',', 'j =', j)"
   ]
  },
  {
   "cell_type": "code",
   "execution_count": 7,
   "metadata": {},
   "outputs": [
    {
     "name": "stdout",
     "output_type": "stream",
     "text": [
      "[[2, 2, 2], [3, 3, 3], [4, 4, 4], [5, 5, 5], [6, 6, 6]]\n"
     ]
    },
    {
     "data": {
      "text/plain": [
       "matrix([[2, 2, 2],\n",
       "        [3, 3, 3],\n",
       "        [4, 4, 4],\n",
       "        [5, 5, 5],\n",
       "        [6, 6, 6]])"
      ]
     },
     "execution_count": 7,
     "metadata": {},
     "output_type": "execute_result"
    }
   ],
   "source": [
    "# Составим матрицу из единиц M на N\n",
    "import numpy as np\n",
    "m = 3\n",
    "n = 5\n",
    "F = [[1+i]* m for i in range(1,n+1)]\n",
    "print(F)\n",
    "np.matrix(F)"
   ]
  },
  {
   "cell_type": "code",
   "execution_count": 8,
   "metadata": {},
   "outputs": [
    {
     "name": "stdout",
     "output_type": "stream",
     "text": [
      "[1][2]: 3\n",
      "[2][2]: 4\n",
      "[3][1]: 5\n",
      "[3][2]: 6\n"
     ]
    }
   ],
   "source": [
    "print('[1][2]:',F[1][2])\n",
    "print('[2][2]:',F[2][2])\n",
    "print('[3][1]:',F[3][1])\n",
    "print('[3][2]:',F[4][0])"
   ]
  },
  {
   "cell_type": "code",
   "execution_count": null,
   "metadata": {},
   "outputs": [],
   "source": []
  },
  {
   "cell_type": "code",
   "execution_count": 153,
   "metadata": {},
   "outputs": [
    {
     "name": "stdout",
     "output_type": "stream",
     "text": [
      "i = 0 , y = 0 , 2\n",
      "i = 0 , y = 1 , 2\n",
      "i = 0 , y = 2 , 2\n",
      "i = 1 , y = 0 , 3\n",
      "i = 1 , y = 1 , 3\n",
      "i = 1 , y = 2 , 3\n",
      "i = 2 , y = 0 , 4\n",
      "i = 2 , y = 1 , 4\n",
      "i = 2 , y = 2 , 4\n",
      "i = 3 , y = 0 , 5\n",
      "i = 3 , y = 1 , 5\n",
      "i = 3 , y = 2 , 5\n",
      "i = 4 , y = 0 , 6\n",
      "i = 4 , y = 1 , 6\n",
      "i = 4 , y = 2 , 6\n"
     ]
    }
   ],
   "source": [
    "for i in range (0,len(F)):\n",
    "    for y in range(0,len(F[0])):\n",
    "        print('i =', i, ',', 'y =', y, ',', F[i][y])"
   ]
  },
  {
   "cell_type": "code",
   "execution_count": 12,
   "metadata": {},
   "outputs": [
    {
     "data": {
      "text/plain": [
       "3"
      ]
     },
     "execution_count": 12,
     "metadata": {},
     "output_type": "execute_result"
    }
   ],
   "source": [
    "# выведем элемент из 1 строки и 2 колонки\n",
    "F[1][2] "
   ]
  },
  {
   "cell_type": "code",
   "execution_count": 152,
   "metadata": {},
   "outputs": [
    {
     "data": {
      "text/plain": [
       "[3, 3, 3]"
      ]
     },
     "execution_count": 152,
     "metadata": {},
     "output_type": "execute_result"
    }
   ],
   "source": [
    "F[1]"
   ]
  },
  {
   "cell_type": "markdown",
   "metadata": {},
   "source": [
    "## Библиотека numpy. Создадим матрицы.\n"
   ]
  },
  {
   "cell_type": "code",
   "execution_count": 44,
   "metadata": {},
   "outputs": [
    {
     "data": {
      "text/plain": [
       "array([4, 3, 2, 2, 3, 2])"
      ]
     },
     "execution_count": 44,
     "metadata": {},
     "output_type": "execute_result"
    }
   ],
   "source": [
    "import numpy as np\n",
    "\n",
    "np.zeros((3,4)) # создадим матрицу 3 на 4, все элементы заполнены нулями \n",
    "np.ones((2,3))  # создадим матрицу 2 на 3, все элементы заполнены единицами\n",
    "np.arange(10,25,5) # массив из чисел от 10 до 25 с растоянием 5\n",
    "np.linspace(0,2,9) # массив из чисел от 0 до 2, всего должно быть 9 равностоящих друг от друга чисел\n",
    "np.full((2,3),7) # создадим матрицу 2 на 3, все элементы заполнены 7 \n",
    "np.eye(5) # создадим квадратную матрицу 5 на 5, диагональ заполнена 1, остальное 0\n",
    "np.random.randint(1,6,6) # матрица 2 на 3 с рандомными числами \n"
   ]
  },
  {
   "cell_type": "code",
   "execution_count": null,
   "metadata": {},
   "outputs": [],
   "source": [
    "\n"
   ]
  },
  {
   "cell_type": "code",
   "execution_count": null,
   "metadata": {},
   "outputs": [],
   "source": []
  },
  {
   "cell_type": "code",
   "execution_count": null,
   "metadata": {},
   "outputs": [],
   "source": []
  }
 ],
 "metadata": {
  "kernelspec": {
   "display_name": "Python 3",
   "language": "python",
   "name": "python3"
  },
  "language_info": {
   "codemirror_mode": {
    "name": "ipython",
    "version": 3
   },
   "file_extension": ".py",
   "mimetype": "text/x-python",
   "name": "python",
   "nbconvert_exporter": "python",
   "pygments_lexer": "ipython3",
   "version": "3.8.5"
  }
 },
 "nbformat": 4,
 "nbformat_minor": 4
}
